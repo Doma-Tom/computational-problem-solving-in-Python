{
 "cells": [
  {
   "cell_type": "markdown",
   "id": "23177485",
   "metadata": {},
   "source": [
    "In course of my learning python, I have documented my solution to few exercises \n",
    "in computational python problems that I solved and learnings. I did this to help keep track \n",
    "of my progress and also help newbies who will want to look up \n",
    "solutions for this python problems. I know the problems can be solved in different ways\n",
    "but I solved them with beginner's knowledge. I will continue to update this file and\n",
    "I also want people to help add to this work especially for the harder problems that I\n",
    "did not solve. You can find in this file the copy of the the computational python course.\n",
    "Thank you"
   ]
  },
  {
   "cell_type": "code",
   "execution_count": 5,
   "id": "6ce2f93a",
   "metadata": {},
   "outputs": [
    {
     "name": "stdout",
     "output_type": "stream",
     "text": [
      "*******************\n",
      "*******************\n",
      "*******************\n",
      "*******************\n"
     ]
    }
   ],
   "source": [
    "print(\"*******************\\n*******************\\n*******************\\n*******************\")"
   ]
  },
  {
   "cell_type": "code",
   "execution_count": 10,
   "id": "7fa9611d",
   "metadata": {},
   "outputs": [
    {
     "name": "stdout",
     "output_type": "stream",
     "text": [
      "   *  \n",
      "  ***\n",
      " *****\n",
      "*******\n"
     ]
    }
   ],
   "source": [
    "print(\"   *  \\n  ***\\n *****\\n*******\")"
   ]
  },
  {
   "cell_type": "code",
   "execution_count": 13,
   "id": "63f54ab6",
   "metadata": {},
   "outputs": [
    {
     "name": "stdout",
     "output_type": "stream",
     "text": [
      "* 00 * 00 * 00 * 00 * 00 * 00  Halluluiyah!\n",
      "* 00 * 00 * 00 * 00 * 00 * 00  Halluluiyah!\n",
      "* 00 * 00 * 00 * 00 * 00 * 00  Halluluiyah!\n",
      "* 00 * 00 * 00 * 00 * 00 * 00  Halluluiyah!\n"
     ]
    }
   ],
   "source": [
    "for i in range(4):\n",
    "    print(\"* 00 \"*6, end =\" \")\n",
    "    print(\"Halluluiyah!\")"
   ]
  },
  {
   "cell_type": "code",
   "execution_count": 4,
   "id": "bdcf7d99",
   "metadata": {},
   "outputs": [
    {
     "name": "stdout",
     "output_type": "stream",
     "text": [
      "******************************\n",
      "************************************************************\n",
      "******************************************************************************************\n",
      "************************************************************************************************************************\n"
     ]
    }
   ],
   "source": [
    "for i in range(4):\n",
    "    print(\"*\"*30*(i+1))\n",
    "    "
   ]
  },
  {
   "cell_type": "code",
   "execution_count": 18,
   "id": "640284d1",
   "metadata": {},
   "outputs": [],
   "source": [
    "# for i in range(101):\n",
    "#     print(\"Domale\")\n",
    "    "
   ]
  },
  {
   "cell_type": "code",
   "execution_count": 34,
   "id": "e866232e",
   "metadata": {},
   "outputs": [],
   "source": [
    "# for i in range(50):\n",
    "#     print(\"domale\",end= \" \")\n",
    "#     print(\"tom\")"
   ]
  },
  {
   "cell_type": "code",
   "execution_count": 40,
   "id": "cd73571e",
   "metadata": {},
   "outputs": [
    {
     "name": "stdout",
     "output_type": "stream",
     "text": [
      "1Domale2Domale3Domale4Domale5Domale6Domale7Domale8Domale9Domale10Domale11Domale12Domale13Domale14Domale15Domale16Domale17Domale18Domale19Domale20Domale21Domale22Domale23Domale24Domale25Domale26Domale27Domale28Domale29Domale30Domale31Domale32Domale33Domale34Domale35Domale36Domale37Domale38Domale39Domale40Domale41Domale42Domale43Domale44Domale45Domale46Domale47Domale48Domale49Domale50Domale51Domale52Domale53Domale54Domale55Domale56Domale57Domale58Domale59Domale60Domale61Domale62Domale63Domale64Domale65Domale66Domale67Domale68Domale69Domale70Domale71Domale72Domale73Domale74Domale75Domale76Domale77Domale78Domale79Domale80Domale81Domale82Domale83Domale84Domale85Domale86Domale87Domale88Domale89Domale90Domale91Domale92Domale93Domale94Domale95Domale96Domale97Domale98Domale99Domale100Domale"
     ]
    }
   ],
   "source": [
    "for i in range(1,101):\n",
    "    print(i,end =\"Domale\")"
   ]
  },
  {
   "cell_type": "code",
   "execution_count": 43,
   "id": "12fe9112",
   "metadata": {},
   "outputs": [],
   "source": [
    "# for i in range(1,101):\n",
    "#     print(i,end =\" \")\n",
    "#     print(\"  Domale\")"
   ]
  },
  {
   "cell_type": "code",
   "execution_count": 52,
   "id": "539a5564",
   "metadata": {},
   "outputs": [],
   "source": [
    "# for i in range(1,21):\n",
    "#     print(i, end =\" \")\n",
    "#     print(i*2)"
   ]
  },
  {
   "cell_type": "code",
   "execution_count": 53,
   "id": "30eaff16",
   "metadata": {},
   "outputs": [],
   "source": [
    "# for i in range(8,90,3):\n",
    "#     print(i)"
   ]
  },
  {
   "cell_type": "code",
   "execution_count": 14,
   "id": "0176b46d",
   "metadata": {},
   "outputs": [
    {
     "name": "stdout",
     "output_type": "stream",
     "text": [
      "100# 98# 96# 94# 92# 90# 88# 86# 84# 82# 80# 78# 76# 74# 72# 70# 68# 66# 64# 62# 60# 58# 56# 54# 52# 50# 48# 46# 44# 42# 40# 38# 36# 34# 32# 30# 28# 26# 24# 22# 20# 18# 16# 14# 12# 10# 8# 6# 4# 2# "
     ]
    }
   ],
   "source": [
    "for i in range(100,1,-2):\n",
    "    print(i,end = \"# \")"
   ]
  },
  {
   "cell_type": "code",
   "execution_count": 73,
   "id": "d3fcdaa6",
   "metadata": {},
   "outputs": [
    {
     "name": "stdout",
     "output_type": "stream",
     "text": [
      "AAAAAAAAAA BBBBBB CDCDCDCD E FFFFFF G "
     ]
    }
   ],
   "source": [
    "# Write a program that uses exactly four for loops to print the sequence of letters below.\n",
    "# AAAAAAAAAABBBBBBBCDCDCDCDEFFFFFFG\n",
    "\n",
    "for i in range(1):\n",
    "    print(\"A\"*10,end =\" \")\n",
    "    print(\"B\"*6,end =\" \")\n",
    "    print(\"CD\"*4,\"E\",end =\" \")\n",
    "    print(\"F\"*6,\"G\",end= \" \")"
   ]
  },
  {
   "cell_type": "code",
   "execution_count": 74,
   "id": "fa6fbd57",
   "metadata": {},
   "outputs": [
    {
     "name": "stdout",
     "output_type": "stream",
     "text": [
      "AAAAAAAAAA BBBBBB CDCDCDCD E FFFFFF G\n"
     ]
    }
   ],
   "source": [
    "for i in range(1):\n",
    "    print(\"A\"*10,\"B\"*6,\"CD\"*4,\"E\",\"F\"*6,\"G\")"
   ]
  },
  {
   "cell_type": "code",
   "execution_count": 46,
   "id": "819252db",
   "metadata": {},
   "outputs": [
    {
     "name": "stdout",
     "output_type": "stream",
     "text": [
      "enter a name: Tomie\n",
      "enter a name: Tomie\n",
      "enter a name: Great\n",
      "enter a name: peace\n",
      "['Tomie', 'Tomie', 'Great', 'peace']\n"
     ]
    }
   ],
   "source": [
    "name = []\n",
    "for i in range(4):\n",
    "    value =input(\"enter a name: \")\n",
    "    name.append(value)\n",
    "print(name)\n",
    "    \n",
    "    "
   ]
  },
  {
   "cell_type": "code",
   "execution_count": 2,
   "id": "eafbe594",
   "metadata": {},
   "outputs": [],
   "source": [
    "# Write a program that asks the user for their name and how many times to print it. \n",
    "# The program should print out the user’s name the specified number of times\n",
    "\n",
    "name=input('enter ')"
   ]
  },
  {
   "cell_type": "code",
   "execution_count": 3,
   "id": "b279cf24",
   "metadata": {},
   "outputs": [
    {
     "name": "stdout",
     "output_type": "stream",
     "text": [
      "enter your name: ledi\n",
      "enter  times: 2\n",
      "ledi 2\n"
     ]
    }
   ],
   "source": [
    "name=input(\"enter your name: \")\n",
    "times=input(\"enter  times: \")\n",
    "print(name,times)\n"
   ]
  },
  {
   "cell_type": "code",
   "execution_count": 41,
   "id": "e4d8cdaf",
   "metadata": {},
   "outputs": [
    {
     "name": "stdout",
     "output_type": "stream",
     "text": [
      "Hello and welcome.\n",
      "what is your name: joe\n",
      "thats my name\n",
      "Hi joe\n"
     ]
    }
   ],
   "source": [
    "print(\"Hello and welcome.\")\n",
    "name =input(\"what is your name: \")\n",
    "name.lower()\n",
    "if name == \"joe\":\n",
    "    print(\"thats my name\")\n",
    "    print(\"Hi \" + name)\n",
    "else:\n",
    "    print('Sorry, that is not my name, my name is joe')"
   ]
  },
  {
   "cell_type": "code",
   "execution_count": null,
   "id": "5d23c33b",
   "metadata": {},
   "outputs": [],
   "source": [
    "class Bike(object):\n",
    "    def __init__(self, name, weight, cost):\n",
    "        self.name = name\n",
    "        self.weight = weight\n",
    "        self.cost = cost\n",
    "\n",
    "bikes = {\n",
    "    # Bike designed for children\"\n",
    "    \"Trike\": Bike(\"Trike\", 20, 100),      # <--\n",
    "    # Bike designed for everyone\"\n",
    "    \"Kruzer\": Bike(\"Kruzer\", 50, 165),    # <--\n",
    "    }\n",
    "\n",
    "# Markup of 20% on all sales\n",
    "margin = .2\n",
    "# Revenue minus cost after sale\n",
    "for bike in bikes.values():\n",
    "    profit = bike.cost * margin\n",
    "    print(profit)\n",
    "# Output:\n",
    "\n",
    "# 33.0\n",
    "# 20.0"
   ]
  },
  {
   "cell_type": "code",
   "execution_count": 44,
   "id": "642e5d12",
   "metadata": {},
   "outputs": [
    {
     "name": "stdout",
     "output_type": "stream",
     "text": [
      "sum is 55\n"
     ]
    }
   ],
   "source": [
    "def main():\n",
    "    numbers = [1,2,3,4,5,6,7,8,9,10]\n",
    "    totalsum =0\n",
    "    i =0\n",
    "    while True:\n",
    "        totalsum += numbers[i]\n",
    "        i += 1\n",
    "        if i >= len(numbers):\n",
    "            break\n",
    "    print(\"sum is\",totalsum)\n",
    "    \n",
    "if __name__ == \"__main__\":\n",
    "    main()\n",
    "        "
   ]
  },
  {
   "cell_type": "code",
   "execution_count": 45,
   "id": "c4707fe5",
   "metadata": {},
   "outputs": [
    {
     "data": {
      "text/plain": [
       "55"
      ]
     },
     "execution_count": 45,
     "metadata": {},
     "output_type": "execute_result"
    }
   ],
   "source": [
    "numbers = [1,2,3,4,5,6,7,8,9,10]\n",
    "sum(numbers)"
   ]
  },
  {
   "cell_type": "markdown",
   "id": "1d99d4c8",
   "metadata": {},
   "source": [
    "## S0LVING CHAPTER 2"
   ]
  },
  {
   "cell_type": "code",
   "execution_count": 5,
   "id": "8eff0d79",
   "metadata": {},
   "outputs": [
    {
     "name": "stdout",
     "output_type": "stream",
     "text": [
      "********************\n",
      "********************\n",
      "********************\n",
      "********************\n"
     ]
    }
   ],
   "source": [
    "for lol in range(4):\n",
    "    print(\"*\"*20)\n",
    "    "
   ]
  },
  {
   "cell_type": "code",
   "execution_count": 7,
   "id": "cbb203a0",
   "metadata": {},
   "outputs": [
    {
     "name": "stdout",
     "output_type": "stream",
     "text": [
      "*\n",
      "**\n",
      "***\n",
      "****\n",
      "*****\n",
      "******\n"
     ]
    }
   ],
   "source": [
    "for i in range(6):\n",
    "    print(\"*\"*(i+1))"
   ]
  },
  {
   "cell_type": "code",
   "execution_count": 5,
   "id": "a47cac86",
   "metadata": {},
   "outputs": [
    {
     "name": "stdout",
     "output_type": "stream",
     "text": [
      "****\n",
      "****\n",
      "****\n",
      "****\n"
     ]
    }
   ],
   "source": [
    "for i in range(4):\n",
    "    print(\"*\"*4)"
   ]
  },
  {
   "cell_type": "code",
   "execution_count": 1,
   "id": "47a99626",
   "metadata": {},
   "outputs": [
    {
     "name": "stdout",
     "output_type": "stream",
     "text": [
      "step 8\n",
      "\n",
      "step 7\n",
      "\n",
      "step 6\n",
      "6\n",
      "step 6\n",
      "66\n",
      "step 4\n",
      "444\n",
      "step 9\n",
      "9999\n"
     ]
    }
   ],
   "source": [
    "for i in range (6):\n",
    "    step = input(\"step \")\n",
    "    print(step*(i-1))"
   ]
  },
  {
   "cell_type": "code",
   "execution_count": 4,
   "id": "e1d35a12",
   "metadata": {},
   "outputs": [
    {
     "data": {
      "text/plain": [
       "1"
      ]
     },
     "execution_count": 4,
     "metadata": {},
     "output_type": "execute_result"
    }
   ],
   "source": [
    "8//5"
   ]
  },
  {
   "cell_type": "code",
   "execution_count": 1,
   "id": "17768dfe",
   "metadata": {},
   "outputs": [],
   "source": [
    " from math import sin,sqrt"
   ]
  },
  {
   "cell_type": "code",
   "execution_count": 16,
   "id": "f191c6e6",
   "metadata": {},
   "outputs": [
    {
     "name": "stdout",
     "output_type": "stream",
     "text": [
      "300.0\n"
     ]
    }
   ],
   "source": [
    "print(round(345.2, -2))\n"
   ]
  },
  {
   "cell_type": "code",
   "execution_count": 22,
   "id": "c5d79807",
   "metadata": {},
   "outputs": [],
   "source": [
    "# >>> import math\n",
    "# >>> dir(math)"
   ]
  },
  {
   "cell_type": "code",
   "execution_count": 2,
   "id": "53daa977",
   "metadata": {},
   "outputs": [],
   "source": [
    "from random import randint\n",
    "# for i in range(50):\n",
    "#     a =[3,4,5]\n",
    "#     print(a)\n",
    "    "
   ]
  },
  {
   "cell_type": "code",
   "execution_count": 46,
   "id": "d9de4722",
   "metadata": {},
   "outputs": [
    {
     "name": "stdout",
     "output_type": "stream",
     "text": [
      "1 2 3 4 5 6 7 8 9 10 11 12 13 14 15 16 17 18 19 20 21 22 23 24 25 26 27 28 29 30 31 32 33 34 35 36 37 38 39 40 41 42 43 44 45 46 47 48 49 50 "
     ]
    }
   ],
   "source": [
    "for i in range(1,51):\n",
    "    print(i,end =\" \")"
   ]
  },
  {
   "cell_type": "code",
   "execution_count": 38,
   "id": "b6745f05",
   "metadata": {},
   "outputs": [],
   "source": [
    "from random import randint"
   ]
  },
  {
   "cell_type": "code",
   "execution_count": 39,
   "id": "17a1053b",
   "metadata": {},
   "outputs": [
    {
     "name": "stdout",
     "output_type": "stream",
     "text": [
      "x is 18 \n",
      "y is 2\n",
      "x**y is 324\n"
     ]
    }
   ],
   "source": [
    "# Question: Write a program that generates a random number, x, between 1 and 50, a random number y\n",
    "# between 2 and 5, and computes x raise to power y.\n",
    "\n",
    "x = randint(1,50)\n",
    "y = randint(2,5)\n",
    "print(f\"x is {x} \\ny is {y}\")\n",
    "print(f\"x**y is {x**y}\")"
   ]
  },
  {
   "cell_type": "code",
   "execution_count": 43,
   "id": "c944146e",
   "metadata": {},
   "outputs": [
    {
     "name": "stdout",
     "output_type": "stream",
     "text": [
      "7\n"
     ]
    }
   ],
   "source": [
    "x =randint(1,10)\n",
    "# y = input(\"\")\n",
    "\n",
    "print(x)"
   ]
  },
  {
   "cell_type": "markdown",
   "id": "727458aa",
   "metadata": {},
   "source": [
    "## SOLVING CHAPTER 3"
   ]
  },
  {
   "cell_type": "code",
   "execution_count": 45,
   "id": "0b3e850c",
   "metadata": {},
   "outputs": [],
   "source": [
    "#  Write a program that generates and prints 50 random integers, each between 3 and 6.\n",
    "\n",
    "# for i in range(50):\n",
    "#     x = randint(3,6)\n",
    "#     print(x)\n",
    "    "
   ]
  },
  {
   "cell_type": "code",
   "execution_count": 76,
   "id": "b9db1f4e",
   "metadata": {},
   "outputs": [
    {
     "name": "stdout",
     "output_type": "stream",
     "text": [
      "8.37\n"
     ]
    }
   ],
   "source": [
    "# Write a program that generates a random decimal number between 1 and 10 with two decimal\n",
    "# places of accuracy. Examples are 1.23, 3.45, 9.80, and 5.00.\n",
    "\n",
    "import random\n",
    "n = round(random.random()*10,2)\n",
    "print(n)"
   ]
  },
  {
   "cell_type": "code",
   "execution_count": 75,
   "id": "1681e9ed",
   "metadata": {},
   "outputs": [
    {
     "name": "stdout",
     "output_type": "stream",
     "text": [
      "tom\n"
     ]
    }
   ],
   "source": [
    "n = randint(1,9)\n",
    "for i in range(n):\n",
    "    print(\"tom\")"
   ]
  },
  {
   "cell_type": "code",
   "execution_count": 30,
   "id": "d3af2c26",
   "metadata": {},
   "outputs": [
    {
     "data": {
      "text/plain": [
       "5.0"
      ]
     },
     "execution_count": 30,
     "metadata": {},
     "output_type": "execute_result"
    }
   ],
   "source": [
    "#  Write a program that generates a random decimal number between 1 and 10 with two decimal\n",
    "# places of accuracy. Examples are 1.23, 3.45, 9.80, and 5.00.\n",
    "\n",
    "x = round(float(randint(1,10)),3)\n",
    "x"
   ]
  },
  {
   "cell_type": "code",
   "execution_count": 20,
   "id": "9c154b01",
   "metadata": {},
   "outputs": [
    {
     "name": "stdout",
     "output_type": "stream",
     "text": [
      "0.6666666666666666\n"
     ]
    },
    {
     "data": {
      "text/plain": [
       "0.8333333333333334"
      ]
     },
     "execution_count": 20,
     "metadata": {},
     "output_type": "execute_result"
    }
   ],
   "source": [
    "def sum(num1,num2):\n",
    "    return num1 /num2\n",
    "print(sum(2,3))\n",
    "sum(10,12)"
   ]
  },
  {
   "cell_type": "code",
   "execution_count": 3,
   "id": "7284d9ff",
   "metadata": {},
   "outputs": [
    {
     "name": "stdout",
     "output_type": "stream",
     "text": [
      "enter x: 7\n",
      "enter y:4\n",
      "0.2727272727272727\n"
     ]
    }
   ],
   "source": [
    "# . Write a program that asks the user to enter two numbers, x and y, and computes |x−y|\n",
    "# x+y\n",
    "\n",
    "x =int(input(\"enter x: \"))\n",
    "y =int(input(\"enter y:\"))\n",
    "sub = abs(x-y)\n",
    "div =x+y\n",
    "ans =sub/div\n",
    "print(ans)"
   ]
  },
  {
   "cell_type": "code",
   "execution_count": 32,
   "id": "f389e5e0",
   "metadata": {},
   "outputs": [],
   "source": [
    "import scipy as sc\n",
    "import numpy as np\n",
    "import pandas as pd\n",
    "import matplotlib as plt\n",
    "import sklearn as sk"
   ]
  },
  {
   "cell_type": "code",
   "execution_count": 33,
   "id": "a692eff2",
   "metadata": {},
   "outputs": [
    {
     "data": {
      "text/plain": [
       "'1.6.2'"
      ]
     },
     "execution_count": 33,
     "metadata": {},
     "output_type": "execute_result"
    }
   ],
   "source": [
    "sc.__version__\n"
   ]
  },
  {
   "cell_type": "code",
   "execution_count": 34,
   "id": "3d488ee7",
   "metadata": {},
   "outputs": [
    {
     "data": {
      "text/plain": [
       "'1.20.1'"
      ]
     },
     "execution_count": 34,
     "metadata": {},
     "output_type": "execute_result"
    }
   ],
   "source": [
    "np.__version__"
   ]
  },
  {
   "cell_type": "code",
   "execution_count": 35,
   "id": "44ed2424",
   "metadata": {},
   "outputs": [
    {
     "data": {
      "text/plain": [
       "'1.2.4'"
      ]
     },
     "execution_count": 35,
     "metadata": {},
     "output_type": "execute_result"
    }
   ],
   "source": [
    "pd.__version__"
   ]
  },
  {
   "cell_type": "code",
   "execution_count": 36,
   "id": "e7b8b525",
   "metadata": {},
   "outputs": [
    {
     "data": {
      "text/plain": [
       "'3.3.4'"
      ]
     },
     "execution_count": 36,
     "metadata": {},
     "output_type": "execute_result"
    }
   ],
   "source": [
    "plt.__version__"
   ]
  },
  {
   "cell_type": "code",
   "execution_count": 38,
   "id": "8bbdba50",
   "metadata": {},
   "outputs": [
    {
     "data": {
      "text/plain": [
       "'0.24.1'"
      ]
     },
     "execution_count": 38,
     "metadata": {},
     "output_type": "execute_result"
    }
   ],
   "source": [
    "sk.__version__"
   ]
  },
  {
   "cell_type": "code",
   "execution_count": 51,
   "id": "4ab3307d",
   "metadata": {},
   "outputs": [
    {
     "name": "stdout",
     "output_type": "stream",
     "text": [
      "enter an angle btw -180 and 180 degree: 0\n",
      "equivalent angle btw 0 and 360 is 180 degrees\n"
     ]
    }
   ],
   "source": [
    "#  Write a program that asks the user to enter an angle between −180◦ and 180◦.Using an\n",
    "# expression with the modulo operator, convert the angle to its equivalent between 0 and 360◦\n",
    "\n",
    "\n",
    "degree = eval(input(\"enter an angle btw -180 and 180 degree: \"))\n",
    "degree = (degree + 180) % 360\n",
    "print(f\"equivalent angle btw 0 and 360 is {degree} degrees\")\n"
   ]
  },
  {
   "cell_type": "code",
   "execution_count": 76,
   "id": "a9ba93b4",
   "metadata": {},
   "outputs": [
    {
     "name": "stdout",
     "output_type": "stream",
     "text": [
      "enter hour btw 1 and 12: 6\n",
      "enter am or pm: am\n",
      "enter hour: 7\n",
      "future time will be 1 pm\n"
     ]
    }
   ],
   "source": [
    "# Write a program that asks the user for an hour between 1 and 12 and for how many hours in\n",
    "# the future they want to go. Print out what the hour will be that many hours into the future.\n",
    "\n",
    "hour = eval(input(\"enter hour btw 1 and 12: \"))\n",
    "am_pm = input(\"enter am or pm: \")\n",
    "hour_ahead =eval(input(\"enter hour: \"))\n",
    "future_hour =(hour + hour_ahead) % 12\n",
    "print(f\"future time will be {future_hour} pm\")\n"
   ]
  },
  {
   "cell_type": "code",
   "execution_count": 12,
   "id": "7483a044",
   "metadata": {},
   "outputs": [
    {
     "name": "stdout",
     "output_type": "stream",
     "text": [
      "enter hour btw 1 and 12: 1\n",
      "enter AM or PM: AM\n",
      "enter hour: 14\n",
      "future time will be 3 AM\n"
     ]
    }
   ],
   "source": [
    "hour = eval(input(\"enter hour btw 1 and 12: \"))\n",
    "am_pm = input(\"enter AM or PM: \")\n",
    "hour_ahead =eval(input(\"enter hour: \"))\n",
    "future_hour =(hour + hour_ahead) % 12\n",
    "if am_pm == \"AM\":\n",
    "    print(f\"future time will be {future_hour} AM\")\n",
    "else:\n",
    "    print(f\"future time will be {future_hour} PM\")"
   ]
  },
  {
   "cell_type": "code",
   "execution_count": 67,
   "id": "88da56f3",
   "metadata": {},
   "outputs": [
    {
     "name": "stdout",
     "output_type": "stream",
     "text": [
      "enter seconds: 200\n",
      "20 seconds\n",
      "3 minutes\n",
      "3 minutes and 20 seconds\n"
     ]
    }
   ],
   "source": [
    "# Write a program that asks the user for a number of seconds and prints out how many minutes\n",
    "# and seconds that is. For instance, 200 seconds is 3 minutes and 20 seconds. [Hint: Use the //\n",
    "# operator to get minutes and the % operator to get seconds.]\n",
    "seconds =eval(input(\"enter seconds: \"))\n",
    "split_sec = seconds % 60\n",
    "split_min = seconds // 60\n",
    "print(f\"{split_sec} seconds\")\n",
    "print(f\"{split_min} minutes\")\n",
    "print(f\"{split_min} minutes and {split_sec} seconds\")"
   ]
  },
  {
   "cell_type": "code",
   "execution_count": 60,
   "id": "1e8afb24",
   "metadata": {},
   "outputs": [
    {
     "name": "stdout",
     "output_type": "stream",
     "text": [
      "enter seconds: 720\n",
      "0 seconds\n",
      "12 minutes\n",
      "12 minutes and 0 seconds\n"
     ]
    }
   ],
   "source": [
    "seconds =eval(input(\"enter seconds: \"))\n",
    "split_sec = seconds % 60\n",
    "split_min = seconds // 60\n",
    "print(f\"{split_sec} seconds\")\n",
    "print(f\"{split_min} minutes\")\n",
    "print(f\"{split_min} minutes and {split_sec} seconds\")"
   ]
  },
  {
   "cell_type": "code",
   "execution_count": 32,
   "id": "6161dbe8",
   "metadata": {},
   "outputs": [
    {
     "data": {
      "text/plain": [
       "3628800"
      ]
     },
     "execution_count": 32,
     "metadata": {},
     "output_type": "execute_result"
    }
   ],
   "source": [
    "from math import *\n",
    "factorial(10)"
   ]
  },
  {
   "cell_type": "code",
   "execution_count": 26,
   "id": "d978a523",
   "metadata": {},
   "outputs": [
    {
     "name": "stdout",
     "output_type": "stream",
     "text": [
      "Enter weight in kilogram: 356\n",
      "356kg is 785.0pounds\n"
     ]
    }
   ],
   "source": [
    "# Write a program that asks the user to enter a weight in kilograms. The program should\n",
    "# convert it to pounds, printing the answer rounded to the nearest tenth of a pound.\n",
    "\n",
    "\n",
    "# 1 kilogram = 2.205 pounds\n",
    "weight_kg = eval(input(\"Enter weight in kilogram: \"))\n",
    "weight_pounds= round(weight_kg*2.205,1)\n",
    "print(f\"{weight_kg}kg is {weight_pounds}pounds\")"
   ]
  },
  {
   "cell_type": "code",
   "execution_count": 28,
   "id": "4a015abc",
   "metadata": {},
   "outputs": [
    {
     "name": "stdout",
     "output_type": "stream",
     "text": [
      "Enter a number: 10\n",
      "factorial(10) is 3628800\n"
     ]
    }
   ],
   "source": [
    "# Write a program that asks the user for a number and prints out the factorial of that number.\n",
    "\n",
    "number = eval(input(\"Enter a number: \"))\n",
    "fact_num =factorial(number)\n",
    "print(f\"factorial({number}) is {fact_num}\")"
   ]
  },
  {
   "cell_type": "code",
   "execution_count": 41,
   "id": "b6d31fff",
   "metadata": {},
   "outputs": [
    {
     "name": "stdout",
     "output_type": "stream",
     "text": [
      "Enter a number: 0\n",
      "cos(0) is 1.0\n",
      "sin(0) is 1.0\n",
      "tan(0) is 0.0\n"
     ]
    }
   ],
   "source": [
    "# Write a program that asks the user for a number and then prints out the sine, cosine, and\n",
    "# tangent of that number.\n",
    "\n",
    "number = eval(input(\"Enter a number: \"))\n",
    "sine=sin(number)\n",
    "cosine =cos(number)\n",
    "tangent=tan(number)\n",
    "print(f\"cos({number}) is {cosine}\\nsin({number}) is {cosine}\\ntan({number}) is {tangent}\")"
   ]
  },
  {
   "cell_type": "code",
   "execution_count": 45,
   "id": "a8f5ffac",
   "metadata": {},
   "outputs": [
    {
     "name": "stdout",
     "output_type": "stream",
     "text": [
      "Enter an angle in degrees: 90\n",
      "sin(90) is 0.8939966636005579\n"
     ]
    }
   ],
   "source": [
    "# Write a program that asks the user to enter an angle in degrees and prints out the sine of that\n",
    "# angle.\n",
    "\n",
    "angle=eval(input(\"Enter an angle in degrees: \"))\n",
    "sine =sin(angle)\n",
    "print(f\"sin({angle}) is {sine}\")"
   ]
  },
  {
   "cell_type": "code",
   "execution_count": 82,
   "id": "38f5d2b3",
   "metadata": {},
   "outputs": [
    {
     "data": {
      "text/plain": [
       "0.017453292519943295"
      ]
     },
     "execution_count": 82,
     "metadata": {},
     "output_type": "execute_result"
    }
   ],
   "source": [
    "rad=pi/180\n",
    "rad"
   ]
  },
  {
   "cell_type": "code",
   "execution_count": 79,
   "id": "859d676a",
   "metadata": {},
   "outputs": [
    {
     "name": "stdout",
     "output_type": "stream",
     "text": [
      "0 --- 0.0,1.0\n",
      "15 --- 0.2588,0.9659\n",
      "30 --- 0.5,0.866\n",
      "45 --- 0.7071,0.7071\n",
      "60 --- 0.866,0.5\n",
      "75 --- 0.9659,0.2588\n",
      "90 --- 1.0,0.0\n",
      "105 --- 0.9659,-0.2588\n",
      "120 --- 0.866,-0.5\n",
      "135 --- 0.7071,-0.7071\n",
      "150 --- 0.5,-0.866\n",
      "165 --- 0.2588,-0.9659\n",
      "180 --- 0.0,-1.0\n",
      "195 --- -0.2588,-0.9659\n",
      "210 --- -0.5,-0.866\n",
      "225 --- -0.7071,-0.7071\n",
      "240 --- -0.866,-0.5\n",
      "255 --- -0.9659,-0.2588\n",
      "270 --- -1.0,-0.0\n",
      "285 --- -0.9659,0.2588\n",
      "300 --- -0.866,0.5\n",
      "315 --- -0.7071,0.7071\n",
      "330 --- -0.5,0.866\n",
      "345 --- -0.2588,0.9659\n"
     ]
    }
   ],
   "source": [
    "# Write a program that prints out the sine and cosine of the angles ranging from 0 to \n",
    "# 345◦ in 15◦ increments. Each result should be rounded to 4 decimal places.\n",
    "import math\n",
    "\n",
    "for i in range(0,346,15):\n",
    "    rad=i*math.pi /180\n",
    "    sine=round(sin(rad),4)\n",
    "    cosine=round(cos(rad),4)\n",
    "    print(f\"{i} --- {sine},{cosine}\")"
   ]
  },
  {
   "cell_type": "code",
   "execution_count": 60,
   "id": "c0e2f7d7",
   "metadata": {},
   "outputs": [],
   "source": [
    "# 08061664250\n",
    "# 08154531279\n",
    "# Nicholas Vite Neka"
   ]
  },
  {
   "cell_type": "code",
   "execution_count": 1,
   "id": "e0d9b44d",
   "metadata": {},
   "outputs": [
    {
     "data": {
      "text/plain": [
       "9"
      ]
     },
     "execution_count": 1,
     "metadata": {},
     "output_type": "execute_result"
    }
   ],
   "source": [
    "79%10"
   ]
  },
  {
   "cell_type": "code",
   "execution_count": 6,
   "id": "8c680c96",
   "metadata": {},
   "outputs": [
    {
     "name": "stdout",
     "output_type": "stream",
     "text": [
      "Enter a power:5\n",
      "2\n"
     ]
    }
   ],
   "source": [
    "# One way to find out the last digit of a number is to mod the number by 10. Write a\n",
    "# program that asks the user to enter a power. Then find the last digit of 2 raised to that\n",
    "# power.\n",
    "\n",
    "\n",
    "power =eval(input(\"Enter a power:\"))\n",
    "y = 2**power\n",
    "remainder = y % 10 \n",
    "# print(y)\n",
    "print(remainder)"
   ]
  },
  {
   "cell_type": "code",
   "execution_count": 10,
   "id": "047002f8",
   "metadata": {},
   "outputs": [
    {
     "name": "stdout",
     "output_type": "stream",
     "text": [
      "Enter power: 7\n",
      "28\n"
     ]
    }
   ],
   "source": [
    "# One way to find out the last two digits of a number is to mod the number by 100. Write\n",
    "# a program that asks the user to enter a power. Then find the last two digits of 2 raised to\n",
    "# that power.\n",
    "\n",
    "power = eval(input(\"Enter power: \"))\n",
    "y =2**power\n",
    "remain = y % 100\n",
    "print(remain)"
   ]
  },
  {
   "cell_type": "code",
   "execution_count": 1,
   "id": "628801e4",
   "metadata": {},
   "outputs": [
    {
     "name": "stdout",
     "output_type": "stream",
     "text": [
      "Enter power: 7\n",
      "Enter how many digit: 3\n",
      "128\n"
     ]
    }
   ],
   "source": [
    "# Write a program that asks the user to enter a power and how many digits they want.\n",
    "# Find the last that many digits of 2 raised to the power the user entered.\n",
    "\n",
    "power = eval(input(\"Enter power: \"))\n",
    "digit = eval(input(\"Enter how many digit: \"))\n",
    "answer = 2**power\n",
    "print(answer)\n"
   ]
  },
  {
   "cell_type": "code",
   "execution_count": 23,
   "id": "2dca7057",
   "metadata": {},
   "outputs": [
    {
     "name": "stdout",
     "output_type": "stream",
     "text": [
      "Enter power: 15\n",
      "Enter how many digits: 4\n",
      "32768\n",
      "2768\n"
     ]
    }
   ],
   "source": [
    "# Write a program that asks the user to enter a power and how many digits they want.\n",
    "# Find the last that many digits of 2 raised to the power the user entered.\n",
    "\n",
    "power =eval(input(\"Enter power: \"))\n",
    "digits =eval(input(\"Enter how many digits: \"))\n",
    "val = 2**power\n",
    "last = val % (10**digits)\n",
    "print(val)\n",
    "print(last)"
   ]
  },
  {
   "cell_type": "code",
   "execution_count": 1,
   "id": "e76c7752",
   "metadata": {},
   "outputs": [
    {
     "name": "stdout",
     "output_type": "stream",
     "text": [
      "Enter power: 20\n",
      "Enter how many digits: 10\n",
      "actuat value is 1048576\n",
      "num of digits in actual value is 7\n",
      "the first 10 digits is 1048575999.0\n"
     ]
    }
   ],
   "source": [
    "# Write a program that asks the user to enter a power and how many digits they want.\n",
    "# Find the first that many digits of 2 raised to the power the user entered.\n",
    "\n",
    "power = eval(input(\"Enter power: \"))\n",
    "digits =eval(input(\"Enter how many digits: \"))\n",
    "val = 2**power\n",
    "length = len(str(val))\n",
    "result = val // 10**(length - digits)\n",
    "print(f\"actuat value is {val}\")\n",
    "print(f\"num of digits in actual value is {length}\")\n",
    "print(f\"the first {digits} digits is {result}\")\n",
    "\n"
   ]
  },
  {
   "cell_type": "code",
   "execution_count": 42,
   "id": "ed5deca1",
   "metadata": {},
   "outputs": [],
   "source": [
    "#### A year is a leap year if it is divisible by 4, except that years divisible by 100 are not leap years\n",
    "# unless they are also divisible by 400. Ask the user to enter a year, and, using the // operator,\n",
    "# determine how many leap years there have been between 1600 and that year\n",
    "\n"
   ]
  },
  {
   "cell_type": "code",
   "execution_count": 13,
   "id": "0c270d06",
   "metadata": {},
   "outputs": [],
   "source": [
    "# A year is a leap year if it is divisible by 4, except that years divisible by 100 are not leap years\n",
    "# unless they are also divisible by 400. Ask the user to enter a year, and, using the // operator,\n",
    "# determine how many leap years there have been between 1600 and that year\n",
    "\n",
    "# year =eval(input(\"Enter a year: \"))\n",
    "# if year % 4 ==0:\n",
    "#     print(leap_yr)\n",
    "# else:\n",
    "#     print(no)\n",
    "           \n",
    "           "
   ]
  },
  {
   "cell_type": "code",
   "execution_count": 2,
   "id": "3ba7995d",
   "metadata": {},
   "outputs": [
    {
     "name": "stdout",
     "output_type": "stream",
     "text": [
      "Yes,x is divisible by 4\n",
      "Not divisible\n",
      "Yes,x is divisible by 4\n"
     ]
    }
   ],
   "source": [
    "x = [1992,2007,2008]\n",
    "for i in x:\n",
    "    if i % 4 == 0:\n",
    "        print(f\"Yes,x is divisible by 4\")\n",
    "    else:\n",
    "        print(\"Not divisible\")\n"
   ]
  },
  {
   "cell_type": "markdown",
   "id": "9ac57085",
   "metadata": {},
   "source": [
    "### USING MATRIX TO SOLVE SIMPLE EQUATION"
   ]
  },
  {
   "cell_type": "code",
   "execution_count": 13,
   "id": "f3263537",
   "metadata": {},
   "outputs": [
    {
     "name": "stdout",
     "output_type": "stream",
     "text": [
      "Matrix A:\n",
      " [[1 1]\n",
      " [3 2]]\n",
      "----------------------------------------\n",
      "Vector B:\n",
      " [200 450]\n",
      "----------------------------------------\n",
      "solution vector x:  [ 50. 150.]\n",
      "----------------------------------------\n",
      "result: [[200. 450.]]\n"
     ]
    }
   ],
   "source": [
    "\n",
    "import numpy as np\n",
    "# x1+x2=200\n",
    "# 3x1+2x2=450\n",
    "\n",
    "# create a matrix A and vector B\n",
    "\n",
    "A = np.mat([[1,1],[3,2]])\n",
    "print(\"Matrix A:\\n\", A)\n",
    "print(\"-\"*40)\n",
    "B =np.array([200,450])\n",
    "print(\"Vector B:\\n\", B)\n",
    "print(\"-\"*40)\n",
    "\n",
    "# solve the linear equation using the solve() function:\n",
    "solution =np.linalg.solve(A, B)\n",
    "print(\"solution vector x: \",solution)\n",
    "print(\"-\"*40)\n",
    "# checking the solution using dot()\n",
    "print(\"result:\",np.dot(A,solution))\n"
   ]
  },
  {
   "cell_type": "markdown",
   "id": "e750f726",
   "metadata": {},
   "source": [
    "### CHAPTER 4"
   ]
  },
  {
   "cell_type": "code",
   "execution_count": 25,
   "id": "78e42907",
   "metadata": {},
   "outputs": [
    {
     "name": "stdout",
     "output_type": "stream",
     "text": [
      "enter num: 9\n",
      "Oops no! the number is:  6\n"
     ]
    }
   ],
   "source": [
    "from random import randint\n",
    "\n",
    "num=randint(1,10)\n",
    "guess =eval(input(\"enter num: \"))\n",
    "if guess == num:\n",
    "    print(\"Got it!\")\n",
    "else:\n",
    "    print(\"Oops no! the number is: \",num)"
   ]
  },
  {
   "cell_type": "code",
   "execution_count": 3,
   "id": "7b6d55bc",
   "metadata": {},
   "outputs": [
    {
     "name": "stdout",
     "output_type": "stream",
     "text": [
      "Enter a score: 90\n",
      "A\n"
     ]
    }
   ],
   "source": [
    "score = eval(input(\"Enter a score: \"))\n",
    "if score >= 90:\n",
    "    print(\"A\")\n",
    "elif score > 80:\n",
    "    print(\"B\")\n",
    "elif score > 60:\n",
    "    print(\"C\")\n",
    "elif score >= 50:\n",
    "    print(\"Pass\")\n",
    "else:\n",
    "    print(\"repeat\")"
   ]
  },
  {
   "cell_type": "code",
   "execution_count": 11,
   "id": "4cb51b6c",
   "metadata": {},
   "outputs": [
    {
     "name": "stdout",
     "output_type": "stream",
     "text": [
      "Enter lenght in cm: -10\n",
      "invalid\n"
     ]
    }
   ],
   "source": [
    "#  Write a program that asks the user to enter a length in centimeters. If the user enters a negative\n",
    "# length, the program should tell the user that the entry is invalid. Otherwise, the program\n",
    "# should convert the length to inches and print out the result. There are 2.54 centimeters in an\n",
    "# inch.\n",
    "\n",
    "length =eval(input(\"Enter lenght in cm: \"))\n",
    "if length < 0:\n",
    "    print(\"invalid\")\n",
    "else:\n",
    "    print(f\"{length}cm in inches is\",length/2.54)"
   ]
  },
  {
   "cell_type": "code",
   "execution_count": 32,
   "id": "29e2e92c",
   "metadata": {},
   "outputs": [
    {
     "name": "stdout",
     "output_type": "stream",
     "text": [
      "Enter tempt: 212\n",
      "Enter unit: F\n",
      "212F is 100.0C \n"
     ]
    }
   ],
   "source": [
    "# Ask the user for a temperature. Then ask them what units, Celsius or Fahrenheit, the temper\u0002ature is in. \n",
    "# Your program should convert the temperature to the other unit. The conversions\n",
    "# are F =9/5 C + 32 and C =5/9(F − 32).\n",
    "\n",
    "tempt =eval(input(\"Enter tempt: \"))\n",
    "units = input(\"Enter unit: \")\n",
    "F =(9/5)*tempt + 32\n",
    "C =(5/9)*(tempt - 32)\n",
    "if units == \"C\":\n",
    "    print(f\"{tempt}{units} is {F}F: \")\n",
    "if units == \"F\":\n",
    "    print(f\"{tempt}{units} is {C}C \")\n",
    "else:\n",
    "    pass"
   ]
  },
  {
   "cell_type": "code",
   "execution_count": 22,
   "id": "acba132c",
   "metadata": {},
   "outputs": [
    {
     "name": "stdout",
     "output_type": "stream",
     "text": [
      "Enter tempt in celcius: 50\n",
      "50C is at normal range temperature\n"
     ]
    }
   ],
   "source": [
    "tempt =eval(input(\"Enter tempt in celcius: \"))\n",
    "if tempt < -273.15:\n",
    "    print(\"invalid\")\n",
    "elif tempt == -273.15:\n",
    "    print(f\"{tempt}C is absolute temperature\")\n",
    "elif tempt > -273.15 and tempt <= 0:\n",
    "    print(f\"{tempt}C is below frezing point\")\n",
    "elif tempt == 0:\n",
    "    print(f\"{tempt}C is at freezing point\")\n",
    "elif 0<tempt<100:\n",
    "    print(f\"{tempt}C is at normal range temperature\")\n",
    "elif tempt ==100:\n",
    "    print(f\"{tempt}C is at boiling point temperature\")\n",
    "else:\n",
    "    print(f\"{tempt}C is above boiling point temperature\")\n",
    "       "
   ]
  },
  {
   "cell_type": "code",
   "execution_count": 6,
   "id": "eac54ab1",
   "metadata": {},
   "outputs": [
    {
     "name": "stdout",
     "output_type": "stream",
     "text": [
      "Enter credits taken: 76\n",
      "student is a junior\n"
     ]
    }
   ],
   "source": [
    "# Write a program that asks the user how many credits they have taken. If they have taken 23\n",
    "# or less, print that the student is a freshman. If they have taken between 24 and 53, print that\n",
    "# they are a sophomore. The range for juniors is 54 to 83, and for seniors it is 84 and over.\n",
    "\n",
    "credit = eval(input(\"Enter credits taken: \"))\n",
    "if credit <= 23:\n",
    "    print(f\"student is a freshman\")\n",
    "elif 24 <= credit <=53:\n",
    "    print(f\"student is Sophomore\")\n",
    "elif 54 <= credit <= 83:\n",
    "          print(f\"student is a junior\")\n",
    "elif credit >= 84:\n",
    "          print(f\"student is a senior\")"
   ]
  },
  {
   "cell_type": "code",
   "execution_count": 18,
   "id": "45816ab4",
   "metadata": {},
   "outputs": [
    {
     "name": "stdout",
     "output_type": "stream",
     "text": [
      "guess right\n"
     ]
    }
   ],
   "source": [
    "# Generate a random number between 1 and 10. Ask the user to guess the number and print a\n",
    "# message based on whether they get it right or not.\n",
    "\n",
    "from random import randint\n",
    "\n",
    "random_num = randint(1,10)\n",
    "if random_num == 5:\n",
    "    print(\"guess right\")\n",
    "else:\n",
    "    print(\"wrong guess!\")"
   ]
  },
  {
   "cell_type": "code",
   "execution_count": 3,
   "id": "cc58a6c9",
   "metadata": {},
   "outputs": [
    {
     "name": "stdout",
     "output_type": "stream",
     "text": [
      "Enter num of items: 50\n",
      "total cost is $500\n"
     ]
    }
   ],
   "source": [
    "# A store charges $12 per item if you buy less than 10 items. If you buy between 10 and 99\n",
    "# items, the cost is $10 per item. If you buy 100 or more items, the cost is $7 per item. Write a\n",
    "# program that asks the user how many items they are buying and prints the total cost.\n",
    "\n",
    "\n",
    "num_of_items = eval(input(\"Enter num of items: \"))\n",
    "if num_of_items <10:\n",
    "    price1 = num_of_items*12\n",
    "    print(f\"total cost is ${price1}\")\n",
    "elif  10 < num_of_items <=99:\n",
    "    price2 = num_of_items*10\n",
    "    print(f\"total cost is ${price2}\")\n",
    "elif num_of_items >= 100:\n",
    "    price3 = num_of_items*7\n",
    "    print(f\"total cost is ${price3}\")\n",
    "else:\n",
    "    pass\n",
    "#     print('no price tag!')\n",
    "    "
   ]
  },
  {
   "cell_type": "code",
   "execution_count": null,
   "id": "78f88771",
   "metadata": {},
   "outputs": [],
   "source": [
    "# Write a program that asks the user for two numbers and prints Close if the numbers are\n",
    "# within .001 of each other and Not close otherwise.\n",
    "\n",
    " "
   ]
  },
  {
   "cell_type": "code",
   "execution_count": null,
   "id": "23bff772",
   "metadata": {},
   "outputs": [],
   "source": []
  },
  {
   "cell_type": "code",
   "execution_count": 10,
   "id": "76331f71",
   "metadata": {},
   "outputs": [
    {
     "name": "stdout",
     "output_type": "stream",
     "text": [
      "Enter a num: 0.9\n",
      "Enter a num: 0.89\n",
      "0.010000000000000009\n",
      "not close\n"
     ]
    },
    {
     "data": {
      "text/plain": [
       "<function __main__.num(num1, num2)>"
      ]
     },
     "execution_count": 10,
     "metadata": {},
     "output_type": "execute_result"
    }
   ],
   "source": [
    "# Write a program that asks the user for two numbers and prints Close if the numbers are\n",
    "# within .001 of each other and Not close otherwise\n",
    "\n",
    "def num(num1,num2):\n",
    "    num1 = eval(input(\"Enter a num: \"))\n",
    "    num2 = eval(input(\"Enter a num: \"))\n",
    "    print(num1 - num2)\n",
    "    if (num1 - num2 == 0.001) and (num2 -num1 == 0.001):\n",
    "        print(\"close\")\n",
    "    else:\n",
    "        print(\"not close\")\n",
    "    return num\n",
    "x =num(0.9,0.8899)\n",
    "x"
   ]
  },
  {
   "cell_type": "code",
   "execution_count": 12,
   "id": "eaa78a1f",
   "metadata": {},
   "outputs": [
    {
     "name": "stdout",
     "output_type": "stream",
     "text": [
      "Enter a num: 0.9\n",
      "Enter a num: 0.889\n",
      "0.01100000000000001\n",
      "not close\n"
     ]
    },
    {
     "data": {
      "text/plain": [
       "<function __main__.num(num1, num2)>"
      ]
     },
     "execution_count": 12,
     "metadata": {},
     "output_type": "execute_result"
    }
   ],
   "source": [
    "num(0.9,0.8889)"
   ]
  },
  {
   "cell_type": "code",
   "execution_count": 22,
   "id": "44e39b2a",
   "metadata": {},
   "outputs": [
    {
     "name": "stdout",
     "output_type": "stream",
     "text": [
      "Enter a year: 2002\n",
      "2002 is not a leap year\n"
     ]
    }
   ],
   "source": [
    "# A year is a leap year if it is divisible by 4, except that years divisible by 100 are not leap years\n",
    "# unless they are also divisible by 400. Write a program that asks the user for a year and prints\n",
    "# out whether it is a leap year or not.\n",
    "\n",
    "year = eval(input(\"Enter a year: \"))\n",
    "if (year % 4 ==0) or (year % 400 == 0):\n",
    "    print(f\"{year} is a leap year\")\n",
    "else:\n",
    "    print(f\"{year} is not a leap year\")"
   ]
  },
  {
   "cell_type": "code",
   "execution_count": 21,
   "id": "08c3cf05",
   "metadata": {},
   "outputs": [
    {
     "name": "stdout",
     "output_type": "stream",
     "text": [
      "Enter a num: 89\n",
      "1\n",
      "89\n"
     ]
    }
   ],
   "source": [
    "#  Write a program that asks the user to enter a number and prints out all the divisors of that\n",
    "# number. [Hint: the % operator is used to tell if a number is divisible by something. See Section\n",
    "# 3.2.]\n",
    "\n",
    "\n",
    "\n",
    "num = eval(input(\"Enter a num: \"))\n",
    "for i in range(1,1000000):\n",
    "    if num % i == 0:\n",
    "        print(i)"
   ]
  },
  {
   "cell_type": "code",
   "execution_count": 7,
   "id": "64a68235",
   "metadata": {},
   "outputs": [
    {
     "name": "stdout",
     "output_type": "stream",
     "text": [
      "enter hour btw 1 and 12: 9\n",
      "enter am or pm: pm\n",
      "enter hour: 8\n",
      "future time will be 5 O'clock\n"
     ]
    }
   ],
   "source": [
    "hour = eval(input(\"enter hour btw 1 and 12: \"))\n",
    "am_pm = input(\"enter am or pm: \")\n",
    "hour_ahead =eval(input(\"enter hour: \"))\n",
    "future_hour =(hour + hour_ahead) % 12\n",
    "print(f\"future time will be {future_hour} O'clock\")"
   ]
  },
  {
   "cell_type": "code",
   "execution_count": 8,
   "id": "c2182322",
   "metadata": {},
   "outputs": [],
   "source": [
    "# Write a multiplication game program for kids. The program should give the player ten ran\u0002domly generated\n",
    "# multiplication questions to do. After each, the program should tell them\n",
    "# whether they got it right or wrong and what the correct answer is."
   ]
  },
  {
   "cell_type": "code",
   "execution_count": 1,
   "id": "491dbea6",
   "metadata": {},
   "outputs": [
    {
     "name": "stdout",
     "output_type": "stream",
     "text": [
      "enter a number <=200: 150\n"
     ]
    }
   ],
   "source": [
    "# A jar of Halloween candy contains an unknown amount of candy and if you can guess exactly\n",
    "# how much candy is in the bowl, then you win all the candy. You ask the person in charge the\n",
    "# following: If the candy is divided evenly among 5 people, how many pieces would be left\n",
    "# over? The answer is 2 pieces. You then ask about dividing the candy evenly among 6 people,\n",
    "# and the amount left over is 3 pieces. Finally, you ask about dividing the candy evenly among\n",
    "# 7 people, and the amount left over is 2 pieces. By looking at the bowl, you can tell that there\n",
    "# are less than 200 pieces. Write a program to determine how many pieces are in the bowl.\n",
    "\n",
    "candy = eval(input(\"enter a number <=200: \"))\n",
    "if candy % 5 == 2:\n",
    "    pass\n",
    "elif candy % 6 == 3:\n",
    "    pass\n",
    "elif candy % 7 == 2:\n",
    "    print(candy)\n",
    "            "
   ]
  },
  {
   "cell_type": "code",
   "execution_count": 10,
   "id": "f35bc171",
   "metadata": {},
   "outputs": [
    {
     "name": "stdout",
     "output_type": "stream",
     "text": [
      "enter any num: 77\n",
      "enter any num: 9\n",
      "enter any num: 89\n",
      "enter any num: 0\n",
      "enter any num: 8\n",
      "enter any num: 9\n",
      "enter any num: 5\n",
      "enter any num: 5\n",
      "enter any num: 6\n",
      "enter any num: 3\n",
      "there are 2 numbers greater than 10\n"
     ]
    }
   ],
   "source": [
    "count = 0\n",
    "for i in range(10):\n",
    "    num =eval(input(\"enter any num: \"))\n",
    "    if num > 10:\n",
    "        count=count+1\n",
    "print(f\"there are {count} numbers greater than 10\")"
   ]
  },
  {
   "cell_type": "code",
   "execution_count": 15,
   "id": "1d2c58ae",
   "metadata": {},
   "outputs": [
    {
     "name": "stdout",
     "output_type": "stream",
     "text": [
      "enter a number:1\n",
      "enter a number:2\n",
      "enter a number:3\n",
      "enter a number:4\n",
      "enter a number:5\n",
      "enter a number:7\n",
      "enter a number:8\n",
      "enter a number:9\n",
      "enter a number:4\n",
      "enter a number:5\n",
      "there are 3 greater than 5\n",
      "there are 7 less than or equal to 5\n"
     ]
    }
   ],
   "source": [
    "count1 =0\n",
    "count2 =0\n",
    "for i in range(10):\n",
    "    num=eval(input(\"enter a number:\"))\n",
    "    if num >5:\n",
    "        count1=count1+1\n",
    "    elif num <=5:\n",
    "        count2=count2+1\n",
    "print(f\"there are {count1} greater than 5\")\n",
    "print(f\"there are {count2} less than or equal to 5\")"
   ]
  },
  {
   "cell_type": "code",
   "execution_count": 3,
   "id": "4bda83f8",
   "metadata": {},
   "outputs": [
    {
     "name": "stdout",
     "output_type": "stream",
     "text": [
      "20\n"
     ]
    }
   ],
   "source": [
    "count =0\n",
    "for i in range(1,101):\n",
    "    if (i**2) % 10 ==4:\n",
    "        count =count + 1\n",
    "print(count)"
   ]
  },
  {
   "cell_type": "code",
   "execution_count": 8,
   "id": "423976dd",
   "metadata": {},
   "outputs": [
    {
     "name": "stdout",
     "output_type": "stream",
     "text": [
      "5050\n"
     ]
    }
   ],
   "source": [
    "s =0\n",
    "for i in range(1,101):\n",
    "    s=s+i\n",
    "print(s)"
   ]
  },
  {
   "cell_type": "code",
   "execution_count": 5,
   "id": "91676609",
   "metadata": {},
   "outputs": [
    {
     "name": "stdout",
     "output_type": "stream",
     "text": [
      "enter num: 5\n",
      "the sum of numbers is 5\n",
      "enter num: 6\n",
      "the sum of numbers is 11\n",
      "enter num: 6\n",
      "the sum of numbers is 17\n",
      "enter num: 3\n",
      "the sum of numbers is 20\n",
      "enter num: 2\n",
      "the sum of numbers is 22\n",
      "enter num: 5\n",
      "the sum of numbers is 27\n",
      "enter num: 4\n",
      "the sum of numbers is 31\n",
      "enter num: 8\n",
      "the sum of numbers is 39\n",
      "enter num: 7\n",
      "the sum of numbers is 46\n",
      "enter num: 6\n",
      "the sum of numbers is 52\n",
      "average of numbers is 5.2\n"
     ]
    }
   ],
   "source": [
    "# calcute the average\n",
    "\n",
    "s =0\n",
    "for i in range(10):\n",
    "    num =eval(input(\"enter num: \"))\n",
    "    s =s + num\n",
    "    print(f\"the sum of numbers is {s}\")\n",
    "print(f\"average of numbers is {s/10}\")"
   ]
  },
  {
   "cell_type": "code",
   "execution_count": 41,
   "id": "f1d7af50",
   "metadata": {},
   "outputs": [
    {
     "name": "stdout",
     "output_type": "stream",
     "text": [
      "enter a num: 6\n",
      "Not prime\n",
      "i is 5,and flag is 1\n"
     ]
    }
   ],
   "source": [
    "num = eval(input(\"enter a num: \"))\n",
    "\n",
    "flag =0\n",
    "for i in range(2,num):\n",
    "    if num % i ==1:\n",
    "        flag =1\n",
    "if flag == 1:\n",
    "    print(\"Not prime\")\n",
    "else:\n",
    "    print(\"prime\")\n",
    "print(f\"i is {i},and flag is {flag}\")\n",
    "    \n"
   ]
  },
  {
   "cell_type": "code",
   "execution_count": 14,
   "id": "27a0c15f",
   "metadata": {},
   "outputs": [
    {
     "name": "stdout",
     "output_type": "stream",
     "text": [
      "entera positive num:20\n",
      "Enter a positive num: 15\n",
      "Enter a positive num: 21\n",
      "Enter a positive num: 22\n",
      "Enter a positive num: 5\n",
      "Enter a positive num: 6\n",
      "largest number is 22\n"
     ]
    }
   ],
   "source": [
    "largest =eval(input(\"entera positive num:\"))\n",
    "for i in range(5):\n",
    "    num =eval(input(\"Enter a positive num: \"))\n",
    "    if num>largest:\n",
    "        largest = num\n",
    "print(f\"largest number is {largest}\")\n",
    "        \n",
    "        \n",
    "        "
   ]
  },
  {
   "cell_type": "code",
   "execution_count": 21,
   "id": "5079bceb",
   "metadata": {},
   "outputs": [
    {
     "name": "stdout",
     "output_type": "stream",
     "text": [
      "enter a positve num: 7\n",
      "enter a positive num: 9\n",
      "enter a positive num: 9\n",
      "enter a positive num: 7\n",
      "enter a positive num: 8\n",
      "enter a positive num: 6\n",
      "the smallest number is 6\n"
     ]
    }
   ],
   "source": [
    "smallest = eval(input(\"enter a positve num: \"))\n",
    "for i in range(5):\n",
    "    num = eval(input(\"enter a positive num: \"))\n",
    "    if num<smallest:\n",
    "        smallest = num\n",
    "print(f\"the smallest number is {smallest}\")"
   ]
  },
  {
   "cell_type": "code",
   "execution_count": 25,
   "id": "0c320079",
   "metadata": {},
   "outputs": [
    {
     "name": "stdout",
     "output_type": "stream",
     "text": [
      "enter 2 num separated by comma:9,8\n",
      "yes\n"
     ]
    }
   ],
   "source": [
    "# sneaky way to get 2 inputs\n",
    "\n",
    "num3,num5 = eval(input(\"enter 2 num separated by comma:\"))\n",
    "if num3>num5:\n",
    "    print(\"yes\")\n",
    "else:\n",
    "    print(\"do more\")"
   ]
  },
  {
   "cell_type": "code",
   "execution_count": 31,
   "id": "fed1e2f3",
   "metadata": {},
   "outputs": [
    {
     "name": "stdout",
     "output_type": "stream",
     "text": [
      "hello world\n"
     ]
    }
   ],
   "source": [
    "\"\"\"jkkhih90\n",
    "jjjljj \n",
    "oojojo\n",
    "print(\"great\")\"\"\" \n",
    "\n",
    "print(\"hello world\")"
   ]
  },
  {
   "cell_type": "code",
   "execution_count": 33,
   "id": "11facc70",
   "metadata": {},
   "outputs": [
    {
     "name": "stdout",
     "output_type": "stream",
     "text": [
      "Enter number: 8\n",
      "7 1\n"
     ]
    }
   ],
   "source": [
    "flag = 0\n",
    "num = eval(input('Enter number: '))\n",
    "for i in range(2,num):\n",
    "    if num%i==0:\n",
    "        flag = 1\n",
    "print(i, flag)\n"
   ]
  },
  {
   "cell_type": "code",
   "execution_count": 5,
   "id": "510f501d",
   "metadata": {},
   "outputs": [
    {
     "name": "stdout",
     "output_type": "stream",
     "text": [
      "Lebee\n",
      "Lebee\n",
      "Lebee\n"
     ]
    }
   ],
   "source": [
    "from random import randint\n",
    "\n",
    "for i in range(randint(2,20)):\n",
    "    print(\"Lebee\")"
   ]
  },
  {
   "cell_type": "code",
   "execution_count": 7,
   "id": "6da917c1",
   "metadata": {},
   "outputs": [
    {
     "name": "stdout",
     "output_type": "stream",
     "text": [
      "hello hello hello hello \n",
      "hello hello hello hello hello \n",
      "hello hello hello hello hello \n",
      "hello hello hello \n",
      "hello hello hello \n",
      "hello hello hello hello \n"
     ]
    }
   ],
   "source": [
    "from random import randint\n",
    "for i in range(6):\n",
    "    rand = randint(2,5)\n",
    "    print(\"hello \"*rand)"
   ]
  },
  {
   "cell_type": "code",
   "execution_count": 1,
   "id": "71c2d25d",
   "metadata": {},
   "outputs": [
    {
     "name": "stdout",
     "output_type": "stream",
     "text": [
      "the total number divisible by 12 is 756\n"
     ]
    }
   ],
   "source": [
    "from random import randint\n",
    "\n",
    "count=0\n",
    "for i in range(10000):\n",
    "    num =randint(1,100)\n",
    "    if num % 12 ==0:\n",
    "        count =count + 1\n",
    "print(f\"the total number divisible by 12 is {count}\")"
   ]
  },
  {
   "cell_type": "markdown",
   "id": "75659782",
   "metadata": {},
   "source": [
    "### CHAPTER 5"
   ]
  },
  {
   "cell_type": "code",
   "execution_count": 15,
   "id": "ab6255ac",
   "metadata": {},
   "outputs": [
    {
     "name": "stdout",
     "output_type": "stream",
     "text": [
      "20\n"
     ]
    }
   ],
   "source": [
    "# Write a program that counts how many of the squares of the numbers from 1 to 100 end in a\n",
    "# 1.\n",
    "\n",
    "count =0\n",
    "for i in range(1,101):\n",
    "    if (i**2)%10 ==1:\n",
    "        count =count+1\n",
    "print(count)"
   ]
  },
  {
   "cell_type": "code",
   "execution_count": 19,
   "id": "f2e8e8ea",
   "metadata": {},
   "outputs": [
    {
     "name": "stdout",
     "output_type": "stream",
     "text": [
      "squares of numbers that end in 4 is 20 \n",
      "squares of numbers that end in 9 is 20\n"
     ]
    }
   ],
   "source": [
    "# Write a program that counts how many of the squares of the numbers from 1 to 100 end in a\n",
    "# 4 and how many end in a 9.\n",
    "\n",
    "count1 =0\n",
    "count2=0\n",
    "for i in range(1,101):\n",
    "    if (i**2)%10 ==4:\n",
    "        count1 = count1 +1\n",
    "    elif (i**2)%10 ==9:\n",
    "        count2 = count2 +1\n",
    "print(f\"squares of numbers that end in 4 is {count1} \\nsquares of numbers that end in 9 is {count2}\")"
   ]
  },
  {
   "cell_type": "code",
   "execution_count": 35,
   "id": "1558da98",
   "metadata": {},
   "outputs": [
    {
     "name": "stdout",
     "output_type": "stream",
     "text": [
      "enter a value for n: 4\n",
      "0.6970389722134425\n"
     ]
    }
   ],
   "source": [
    "import math\n",
    "s=0\n",
    "n =eval(input(\"enter a value for n: \"))\n",
    "s = s + float(1+1/2+1/3+1/n) -log(n)\n",
    "print(s)"
   ]
  },
  {
   "cell_type": "code",
   "execution_count": 15,
   "id": "42aaf1eb",
   "metadata": {},
   "outputs": [
    {
     "name": "stdout",
     "output_type": "stream",
     "text": [
      "enter a num: 15\n",
      "1 is a divisor\n",
      "3 is a divisor\n",
      "5 is a divisor\n",
      "sum of divisors are 9\n",
      "15 is NOT a perfect number\n"
     ]
    }
   ],
   "source": [
    "# Write a program that asks the user to enter a number and prints the sum of the divisors of\n",
    "# that number.(note: The sum of the divisors of a number is an important function in number theory.)\n",
    "\n",
    "s =0\n",
    "num=eval(input(\"enter a num: \"))\n",
    "for i in range(1,num):\n",
    "    if (num % i)==0:\n",
    "        s=s+i\n",
    "        print(f\"{i} is a divisor\")\n",
    "print(f\"sum of divisors are {s}\")\n",
    "\n",
    "if s == num:\n",
    "    print(f'{num} is a perfect number')\n",
    "else: \n",
    "    print(f'{num} is NOT a perfect number')\n",
    "        "
   ]
  },
  {
   "cell_type": "code",
   "execution_count": null,
   "id": "8397fc48",
   "metadata": {},
   "outputs": [],
   "source": [
    "# enter a number and list the divisors of that number entered.\n",
    "# a number cannot be a divisor of itself. I was just checking code here.\n",
    "\n",
    "num =eval(input(\"Enter a number: \"))\n",
    "for i in range(1,num+1):\n",
    "    if (num % i) ==0:\n",
    "        print(f\"{i} is a divisor of {num}\")\n",
    "#         print(i)\n",
    "    "
   ]
  },
  {
   "cell_type": "code",
   "execution_count": 22,
   "id": "304a8ba8",
   "metadata": {},
   "outputs": [
    {
     "name": "stdout",
     "output_type": "stream",
     "text": [
      "The sum is 5050\n"
     ]
    }
   ],
   "source": [
    "# this program will sum 1 to 100\n",
    "\n",
    "s = 0\n",
    "for i in range(1,101):\n",
    "    s = s + i\n",
    "print('The sum is', s)\n"
   ]
  },
  {
   "cell_type": "code",
   "execution_count": 26,
   "id": "0ff0ac78",
   "metadata": {},
   "outputs": [
    {
     "name": "stdout",
     "output_type": "stream",
     "text": [
      "enter num: 1\n",
      "enter num: 2\n",
      "enter num: 3\n",
      "6\n"
     ]
    }
   ],
   "source": [
    "s=0\n",
    "for i in range(3):\n",
    "    num =eval(input(\"enter num: \"))\n",
    "    s=s+num\n",
    "print(s)\n"
   ]
  },
  {
   "cell_type": "code",
   "execution_count": 24,
   "id": "744bf220",
   "metadata": {},
   "outputs": [
    {
     "name": "stdout",
     "output_type": "stream",
     "text": [
      "6 is a perfect number\n",
      "28 is a perfect number\n",
      "496 is a perfect number\n",
      "8128 is a perfect number\n"
     ]
    }
   ],
   "source": [
    "## A number is called a perfect number if it is equal to the sum of all of its divisors, not including\n",
    "# the number itself. For instance, 6 is a perfect number because the divisors of 6 are 1, 2, 3, 6\n",
    "# and 6 = 1 + 2 + 3. As another example, 28 is a perfect number because its divisors are 1, 2, 4,\n",
    "# 7, 14, 28 and 28 = 1 + 2 + 4 + 7 + 14. However, 15 is not a perfect number because its divisors\n",
    "# are 1, 3, 5, 15 and 15 6= 1 + 3 + 5. Write a program that finds all four of the perfect numbers\n",
    "# that are less than 10000.\n",
    "\n",
    "s =0\n",
    "for num in range(1, 10000):\n",
    "    \n",
    "    for i in range(1,num):\n",
    "        if (num % i)==0:\n",
    "            s=s+i\n",
    "          \n",
    "\n",
    "    if s == num:\n",
    "        print(f'{num} is a perfect number')\n",
    "    s= 0\n"
   ]
  },
  {
   "cell_type": "code",
   "execution_count": 6,
   "id": "9322d22a",
   "metadata": {},
   "outputs": [
    {
     "name": "stdout",
     "output_type": "stream",
     "text": [
      "enter num: 28\n",
      "304888344611713860501504000000\n"
     ]
    }
   ],
   "source": [
    "from math import *\n",
    "num = eval(input(\"enter num: \"))\n",
    "fact = factorial(num)\n",
    "print(fact)"
   ]
  },
  {
   "cell_type": "code",
   "execution_count": 30,
   "id": "24a55e9c",
   "metadata": {},
   "outputs": [
    {
     "name": "stdout",
     "output_type": "stream",
     "text": [
      "enter score: -4\n",
      "enter score: 40000000\n",
      "enter score: 09\n",
      "enter score: 345\n",
      "enter score: 1233\n",
      "enter score: 789\n",
      "enter score: 34\n",
      "enter score: 067\n",
      "enter score: 78\n",
      "enter score: 1234\n",
      "max num is 40000000 while the min num is -4\n"
     ]
    }
   ],
   "source": [
    "#### Ask the user to enter 10 test scores. Write a program to do the following:\n",
    "# (a) Print out the highest and lowest scores.\n",
    "# (b) Print out the average of the scores.\n",
    "# (c) Print out the second largest score.\n",
    "# (d) If any of the scores is greater than 100, then after all the scores have been entered, print\n",
    "# a message warning the user that a value over 100 has been entered.\n",
    "# (e) Drop the two lowest scores and print out the average of the rest of them.\n",
    "\n",
    "max_score = min_score = int(input(\"enter score: \"))\n",
    "# min_score = max_score\n",
    "for i in range(9):\n",
    "    num =int(input(\"enter score: \"))\n",
    "    if num>max_score:\n",
    "        max_score=num\n",
    "    elif num<min_score:\n",
    "        min_score =num\n",
    "print(f\"max num is {max_score} while the min num is {min_score}\")"
   ]
  },
  {
   "cell_type": "code",
   "execution_count": 14,
   "id": "1c027aa5",
   "metadata": {},
   "outputs": [
    {
     "name": "stdout",
     "output_type": "stream",
     "text": [
      "how high will the letter A?:15\n",
      "               *\n",
      "              * *\n",
      "             *   *\n",
      "            *     *\n",
      "           *       *\n",
      "          *         *\n",
      "         *           *\n",
      "        ***************\n",
      "       *               *\n",
      "      *                 *\n",
      "     *                   *\n",
      "    *                     *\n",
      "   *                       *\n",
      "  *                         *\n",
      " *                           *\n"
     ]
    }
   ],
   "source": [
    "# Write a program that prints a giant letter A like the one below. Allow the user to specify how\n",
    "# large the letter should be.\n",
    "\n",
    "height =int(input('how high will the letter A?:'))\n",
    "print(height*' ','*',sep='')\n",
    "for i in range(1,height):\n",
    "    if i == height//2:\n",
    "        print((height-i)*' ','*',(2*i-1)*'*','*',sep='')\n",
    "    else:\n",
    "        print((height-i)*' ','*',(2*i-1)*' ','*',sep='')"
   ]
  },
  {
   "cell_type": "markdown",
   "id": "9f522be0",
   "metadata": {},
   "source": [
    "STRINGS"
   ]
  },
  {
   "cell_type": "code",
   "execution_count": 1,
   "id": "c15a4b95",
   "metadata": {},
   "outputs": [
    {
     "name": "stdout",
     "output_type": "stream",
     "text": [
      "5\n"
     ]
    }
   ],
   "source": [
    "print(len(\"hello\"))"
   ]
  },
  {
   "cell_type": "code",
   "execution_count": 2,
   "id": "324a2c5b",
   "metadata": {},
   "outputs": [
    {
     "name": "stdout",
     "output_type": "stream",
     "text": [
      "18\n"
     ]
    }
   ],
   "source": [
    "print(len(\"everything is fine\"))"
   ]
  },
  {
   "cell_type": "code",
   "execution_count": 3,
   "id": "b4062fe1",
   "metadata": {},
   "outputs": [],
   "source": [
    "message =\"everything is fine!\""
   ]
  },
  {
   "cell_type": "code",
   "execution_count": 5,
   "id": "889e5964",
   "metadata": {},
   "outputs": [
    {
     "data": {
      "text/plain": [
       "'everything is fine!'"
      ]
     },
     "execution_count": 5,
     "metadata": {},
     "output_type": "execute_result"
    }
   ],
   "source": [
    "message[::]"
   ]
  },
  {
   "cell_type": "code",
   "execution_count": 7,
   "id": "22885f07",
   "metadata": {},
   "outputs": [
    {
     "data": {
      "text/plain": [
       "'eeyhn'"
      ]
     },
     "execution_count": 7,
     "metadata": {},
     "output_type": "execute_result"
    }
   ],
   "source": [
    "message[0:10:2]"
   ]
  },
  {
   "cell_type": "code",
   "execution_count": 9,
   "id": "4ce7473a",
   "metadata": {},
   "outputs": [
    {
     "data": {
      "text/plain": [
       "'!'"
      ]
     },
     "execution_count": 9,
     "metadata": {},
     "output_type": "execute_result"
    }
   ],
   "source": [
    "message[-1]"
   ]
  },
  {
   "cell_type": "code",
   "execution_count": 11,
   "id": "15413d31",
   "metadata": {},
   "outputs": [
    {
     "data": {
      "text/plain": [
       "'!'"
      ]
     },
     "execution_count": 11,
     "metadata": {},
     "output_type": "execute_result"
    }
   ],
   "source": [
    "message[18:]"
   ]
  },
  {
   "cell_type": "code",
   "execution_count": 12,
   "id": "4db39c5a",
   "metadata": {},
   "outputs": [
    {
     "data": {
      "text/plain": [
       "'!enif si gnihtyreve'"
      ]
     },
     "execution_count": 12,
     "metadata": {},
     "output_type": "execute_result"
    }
   ],
   "source": [
    "message[::-1]"
   ]
  },
  {
   "cell_type": "code",
   "execution_count": 14,
   "id": "67922bbe",
   "metadata": {},
   "outputs": [
    {
     "data": {
      "text/plain": [
       "'!'"
      ]
     },
     "execution_count": 14,
     "metadata": {},
     "output_type": "execute_result"
    }
   ],
   "source": [
    "last_character=message[len(message)-1]\n",
    "last_character"
   ]
  },
  {
   "cell_type": "code",
   "execution_count": 19,
   "id": "40ddf395",
   "metadata": {},
   "outputs": [
    {
     "name": "stdout",
     "output_type": "stream",
     "text": [
      "yes\n"
     ]
    }
   ],
   "source": [
    "vowel =\"aieou\"\n",
    "if \"a\" in vowel:\n",
    "    print(\"yes\")\n",
    "else:\n",
    "    print(\"No\")"
   ]
  },
  {
   "cell_type": "code",
   "execution_count": 20,
   "id": "c41ac9a5",
   "metadata": {},
   "outputs": [
    {
     "name": "stdout",
     "output_type": "stream",
     "text": [
      "Yes\n"
     ]
    }
   ],
   "source": [
    "if \"a\" not in vowel:\n",
    "    print(No)\n",
    "else:\n",
    "    print(\"Yes\")"
   ]
  },
  {
   "cell_type": "code",
   "execution_count": 21,
   "id": "4e2228d6",
   "metadata": {},
   "outputs": [
    {
     "name": "stdout",
     "output_type": "stream",
     "text": [
      "a\n",
      "i\n",
      "e\n",
      "o\n",
      "u\n"
     ]
    }
   ],
   "source": [
    "for i in range(len(vowel)):\n",
    "    print(vowel[i])"
   ]
  },
  {
   "cell_type": "code",
   "execution_count": 38,
   "id": "2b088f57",
   "metadata": {},
   "outputs": [
    {
     "name": "stdout",
     "output_type": "stream",
     "text": [
      "a\n",
      "\n",
      "i\n",
      "\n",
      "e\n",
      "\n",
      "o\n",
      "\n",
      "u\n",
      "\n"
     ]
    }
   ],
   "source": [
    "for letter in vowel:\n",
    "    print(letter)\n",
    "    print()"
   ]
  },
  {
   "cell_type": "code",
   "execution_count": 41,
   "id": "400da519",
   "metadata": {},
   "outputs": [
    {
     "name": "stdout",
     "output_type": "stream",
     "text": [
      "\n",
      "\n",
      "\n",
      "\n",
      "\n",
      "\n",
      "Tom\n"
     ]
    }
   ],
   "source": [
    "print(\"\\n\"*5)\n",
    "print(\"Tom\")\n"
   ]
  },
  {
   "cell_type": "code",
   "execution_count": 45,
   "id": "3f8050a7",
   "metadata": {},
   "outputs": [
    {
     "name": "stdout",
     "output_type": "stream",
     "text": [
      "enter:this is great\n",
      "a is at position 11\n"
     ]
    }
   ],
   "source": [
    "sent =input(\"enter:\")\n",
    "for i in range(len(sent)):\n",
    "    if sent[i]==\"a\":\n",
    "        print(f\"a is at position {i}\")"
   ]
  },
  {
   "cell_type": "code",
   "execution_count": 2,
   "id": "7ce713bd",
   "metadata": {},
   "outputs": [
    {
     "name": "stdout",
     "output_type": "stream",
     "text": [
      "mmmyyy   fffaaavvvooouuurrriiittteee   sssuuubbbjjjeeecccttt   iiisss   ppphhhyyysssiiicccsss\n"
     ]
    }
   ],
   "source": [
    "s = \"my favourite subject is physics\"\n",
    "newstring=\"\"\n",
    "for i in s:\n",
    "    newstring= newstring + i*3\n",
    "print(newstring)"
   ]
  },
  {
   "cell_type": "code",
   "execution_count": 5,
   "id": "1ed3568f",
   "metadata": {},
   "outputs": [
    {
     "name": "stdout",
     "output_type": "stream",
     "text": [
      " \n"
     ]
    }
   ],
   "source": [
    "s =\".favORitt,e ;SUbject'' is: Coding'\"\n",
    "s_new =s.lower()\n",
    "s_output=\" \"\n",
    "marks =\",'':;'\"\n",
    "for m in marks:\n",
    "    s_output=s_output.replace(m,' ')\n",
    "print(s_output)"
   ]
  },
  {
   "cell_type": "code",
   "execution_count": 46,
   "id": "08f8eea0",
   "metadata": {},
   "outputs": [
    {
     "name": "stdout",
     "output_type": "stream",
     "text": [
      ".favO.Ri.tt,e ;SUb.ject'' is: Cod.ing'\n"
     ]
    },
    {
     "data": {
      "text/plain": [
       "'favoritte subject is coding'"
      ]
     },
     "execution_count": 46,
     "metadata": {},
     "output_type": "execute_result"
    }
   ],
   "source": [
    "s =\".favO.Ri.tt,e ;SUb.ject'' is: Cod.ing'\"\n",
    "# p=(\",\",\" \",\";\",\" \",\":\",\" \",\"'\",\" \",\".\",\" \",\"''\",\" \")\n",
    "s_new =s.lower()\n",
    "marks=(\".,';:\")\n",
    "for p in marks:\n",
    "    s_new= s_new.replace(p,\"\")\n",
    "# s_new= s_new.replace(\".\",\"\")\n",
    "print(s)\n",
    "s_new"
   ]
  },
  {
   "cell_type": "code",
   "execution_count": 53,
   "id": "71a9d796",
   "metadata": {},
   "outputs": [
    {
     "name": "stdout",
     "output_type": "stream",
     "text": [
      "enter a message: 6uom\n",
      "6rst\n"
     ]
    }
   ],
   "source": [
    "# A simple and very old method of sending secret messages is the substitution cipher.\n",
    "# Basically, each letter of the alphabet gets replaced by another letter of the alphabet, say \n",
    "# every a get replaced with an x, and every b gets replaced by a z, etc. \n",
    "# Write a program to implement this.\n",
    "\n",
    "alphabet = 'abcdefghijklmnopqrstuvwxyz'\n",
    "key = 'xznlwebgjhqdyvtkfuompciasr'\n",
    "\n",
    "secret_message = input('enter a message: ')\n",
    "secret_message = secret_message.lower()\n",
    "\n",
    "message =''\n",
    "\n",
    "for s in secret_message:\n",
    "    if s.isalpha():\n",
    "        message += alphabet[key.index(s)]\n",
    "#         message += this is the same as... message =message +\n",
    "    else:\n",
    "        message = message + s\n",
    "print(message)"
   ]
  },
  {
   "cell_type": "code",
   "execution_count": 84,
   "id": "4ba04e0a",
   "metadata": {},
   "outputs": [
    {
     "name": "stdout",
     "output_type": "stream",
     "text": [
      "enter a letter: i\n",
      "enter a letter: o\n",
      "enter a letter: p\n",
      "enter a letter: y\n",
      "enter a letter: a\n",
      "enter a letter: \n",
      "enter a letter: t\n",
      "enter a letter: e\n",
      "iae\n"
     ]
    }
   ],
   "source": [
    "s =\"\"\n",
    "for i in range(8):\n",
    "    t=input(\"enter a letter: \")\n",
    "    if t==\"e\" or t==\"i\" or t==\"u\" or t==\"a\":\n",
    "        s =s + t\n",
    "print(s)"
   ]
  },
  {
   "cell_type": "code",
   "execution_count": 91,
   "id": "38c0843f",
   "metadata": {},
   "outputs": [],
   "source": [
    "# s=0 \n",
    "# max =4\n",
    "# for i in range(max):\n",
    "#     u=70\n",
    "#     s +=u\n",
    "# print(s)"
   ]
  },
  {
   "cell_type": "code",
   "execution_count": 100,
   "id": "3d754306",
   "metadata": {},
   "outputs": [],
   "source": [
    "# m ='string'\n",
    "# if 't' not in m:\n",
    "#     print('yes')\n",
    "# else:\n",
    "#     print(\"not here!\")"
   ]
  },
  {
   "cell_type": "code",
   "execution_count": 102,
   "id": "0ce8a0e6",
   "metadata": {},
   "outputs": [
    {
     "name": "stdout",
     "output_type": "stream",
     "text": [
      "strOng\n"
     ]
    }
   ],
   "source": [
    "s =\"string\" #replace 'i' with 'O'. this uses concatenation because string object is immutable.\n",
    "s= s[:3]+'O'+ s[4:]\n",
    "print(s)"
   ]
  },
  {
   "cell_type": "code",
   "execution_count": 104,
   "id": "9d63fcca",
   "metadata": {},
   "outputs": [
    {
     "name": "stdout",
     "output_type": "stream",
     "text": [
      "1\n"
     ]
    }
   ],
   "source": [
    "s =\"string\"\n",
    "if 't' in s:\n",
    "    location =s.index('t')\n",
    "    print(location)"
   ]
  },
  {
   "cell_type": "code",
   "execution_count": 113,
   "id": "8f2e57b2",
   "metadata": {},
   "outputs": [
    {
     "data": {
      "text/plain": [
       "True"
      ]
     },
     "execution_count": 113,
     "metadata": {},
     "output_type": "execute_result"
    }
   ],
   "source": [
    "sa ='4895'\n",
    "k =sa.isdigit()\n",
    "k"
   ]
  },
  {
   "cell_type": "code",
   "execution_count": 110,
   "id": "a6a9ff01",
   "metadata": {},
   "outputs": [],
   "source": [
    "# so.isalpha()"
   ]
  },
  {
   "cell_type": "code",
   "execution_count": 114,
   "id": "52aa52aa",
   "metadata": {},
   "outputs": [
    {
     "data": {
      "text/plain": [
       "['__add__',\n",
       " '__class__',\n",
       " '__contains__',\n",
       " '__delattr__',\n",
       " '__dir__',\n",
       " '__doc__',\n",
       " '__eq__',\n",
       " '__format__',\n",
       " '__ge__',\n",
       " '__getattribute__',\n",
       " '__getitem__',\n",
       " '__getnewargs__',\n",
       " '__gt__',\n",
       " '__hash__',\n",
       " '__init__',\n",
       " '__init_subclass__',\n",
       " '__iter__',\n",
       " '__le__',\n",
       " '__len__',\n",
       " '__lt__',\n",
       " '__mod__',\n",
       " '__mul__',\n",
       " '__ne__',\n",
       " '__new__',\n",
       " '__reduce__',\n",
       " '__reduce_ex__',\n",
       " '__repr__',\n",
       " '__rmod__',\n",
       " '__rmul__',\n",
       " '__setattr__',\n",
       " '__sizeof__',\n",
       " '__str__',\n",
       " '__subclasshook__',\n",
       " 'capitalize',\n",
       " 'casefold',\n",
       " 'center',\n",
       " 'count',\n",
       " 'encode',\n",
       " 'endswith',\n",
       " 'expandtabs',\n",
       " 'find',\n",
       " 'format',\n",
       " 'format_map',\n",
       " 'index',\n",
       " 'isalnum',\n",
       " 'isalpha',\n",
       " 'isascii',\n",
       " 'isdecimal',\n",
       " 'isdigit',\n",
       " 'isidentifier',\n",
       " 'islower',\n",
       " 'isnumeric',\n",
       " 'isprintable',\n",
       " 'isspace',\n",
       " 'istitle',\n",
       " 'isupper',\n",
       " 'join',\n",
       " 'ljust',\n",
       " 'lower',\n",
       " 'lstrip',\n",
       " 'maketrans',\n",
       " 'partition',\n",
       " 'replace',\n",
       " 'rfind',\n",
       " 'rindex',\n",
       " 'rjust',\n",
       " 'rpartition',\n",
       " 'rsplit',\n",
       " 'rstrip',\n",
       " 'split',\n",
       " 'splitlines',\n",
       " 'startswith',\n",
       " 'strip',\n",
       " 'swapcase',\n",
       " 'title',\n",
       " 'translate',\n",
       " 'upper',\n",
       " 'zfill']"
      ]
     },
     "execution_count": 114,
     "metadata": {},
     "output_type": "execute_result"
    }
   ],
   "source": [
    "dir(str)"
   ]
  },
  {
   "cell_type": "code",
   "execution_count": 116,
   "id": "801d7ae7",
   "metadata": {},
   "outputs": [
    {
     "name": "stdout",
     "output_type": "stream",
     "text": [
      "3\n",
      "7\n"
     ]
    }
   ],
   "source": [
    "k='vikoliko'\n",
    "for v in range(len(k)):\n",
    "    if k[v]=='o':\n",
    "        print(v)"
   ]
  },
  {
   "cell_type": "code",
   "execution_count": 119,
   "id": "a2f07140",
   "metadata": {},
   "outputs": [
    {
     "name": "stdout",
     "output_type": "stream",
     "text": [
      "enter string: greatness\n",
      "ggrreeaattnneessss\n"
     ]
    }
   ],
   "source": [
    "# let user enter a string and double each letter of the string\n",
    "strin =input('enter string: ')\n",
    "s=''\n",
    "for i in strin:\n",
    "    s +=i*2\n",
    "print(s)"
   ]
  },
  {
   "cell_type": "code",
   "execution_count": 123,
   "id": "a44d70ed",
   "metadata": {},
   "outputs": [
    {
     "name": "stdout",
     "output_type": "stream",
     "text": [
      "enter a word: chokolate\n",
      "c ch cho chok choko chokol chokola chokolat chokolate "
     ]
    }
   ],
   "source": [
    "user =input('enter a word: ')\n",
    "for i in range(len(user)):\n",
    "    print(user[:i+1],end=' ')"
   ]
  },
  {
   "cell_type": "code",
   "execution_count": 125,
   "id": "ecb0a45d",
   "metadata": {},
   "outputs": [
    {
     "name": "stdout",
     "output_type": "stream",
     "text": [
      "enter a word: maureen\n",
      "neeruam\n"
     ]
    }
   ],
   "source": [
    "# reverse every word from a user\n",
    "user =input('enter a word: ')\n",
    "rever =user[::-1]\n",
    "print(rever)"
   ]
  },
  {
   "cell_type": "code",
   "execution_count": 126,
   "id": "1dd25135",
   "metadata": {},
   "outputs": [],
   "source": [
    "from math import floor"
   ]
  },
  {
   "cell_type": "code",
   "execution_count": 2,
   "id": "728dcafb",
   "metadata": {},
   "outputs": [
    {
     "name": "stdout",
     "output_type": "stream",
     "text": [
      "enter decimal num: 3.47585\n",
      ".47585\n"
     ]
    }
   ],
   "source": [
    "s=input('enter decimal num: ')\n",
    "print(s[s.index('.'):])"
   ]
  },
  {
   "cell_type": "markdown",
   "id": "8da9c91b",
   "metadata": {},
   "source": [
    "## EXECISE 6"
   ]
  },
  {
   "cell_type": "code",
   "execution_count": 24,
   "id": "fc5fbe31",
   "metadata": {},
   "outputs": [
    {
     "name": "stdout",
     "output_type": "stream",
     "text": [
      "enter a string: blast day at work\n",
      "17\n",
      "blast day at workblast day at workblast day at workblast day at workblast day at workblast day at workblast day at workblast day at workblast day at workblast day at work\n",
      "b\n",
      "bla\n",
      "ork\n",
      "krow ta yad tsalb\n",
      "d\n",
      "last day at wor\n",
      "BLAST DAY AT WORK\n",
      "blest dey et work\n"
     ]
    }
   ],
   "source": [
    "# 1. Write a program that asks the user to enter a string. The program should then print the\n",
    "# following:\n",
    "\n",
    "# (a) The total number of characters in the string\n",
    "user= input('enter a string: ')\n",
    "print(len(user))\n",
    "\n",
    "# (b) The string repeated 10 times\n",
    "print(user*10,sep='')\n",
    "# (c) The first character of the string (remember that string indices start at 0)\n",
    "print(user[0])\n",
    "# d) The first three characters of the string\n",
    "print(user[:3])\n",
    "# e) The last three characters of the string\n",
    "print(user[-3:])\n",
    "# f) The string backwards\n",
    "print(user[::-1])\n",
    "# g) The seventh character of the string if the string is long enough and a message otherwise\n",
    "if len(user) >= 7:\n",
    "    print(user[6])\n",
    "else:\n",
    "    print('oops !length of word not enough!')\n",
    "# h) The string with its first and last characters removed\n",
    "print(user[1:-1])\n",
    "# i) The string in all caps\n",
    "print(user.upper())\n",
    "# (j) The string with every a replaced with an e\n",
    "k = 'a'\n",
    "if i in user:\n",
    "    print(user.replace(k,'e'))"
   ]
  },
  {
   "cell_type": "code",
   "execution_count": 6,
   "id": "46dd527d",
   "metadata": {},
   "outputs": [
    {
     "name": "stdout",
     "output_type": "stream",
     "text": [
      "enter a string: this is a rew\n"
     ]
    },
    {
     "data": {
      "text/plain": [
       "4"
      ]
     },
     "execution_count": 6,
     "metadata": {},
     "output_type": "execute_result"
    }
   ],
   "source": [
    "# 2. A simple way to estimate the number of words in a string is to count the number of spaces\n",
    "# in the string. Write a program that asks the user for a string and returns an estimate of how\n",
    "# many words are in the str\n",
    "\n",
    "string_word=input('enter a string: ')\n",
    "word_list=string_word.split()\n",
    "num_word=len(word_list)\n",
    "num_word"
   ]
  },
  {
   "cell_type": "code",
   "execution_count": 9,
   "id": "8bd6b4bb",
   "metadata": {},
   "outputs": [
    {
     "name": "stdout",
     "output_type": "stream",
     "text": [
      "the kuku: Geeksforgeeks is best Computer Science Portal\n"
     ]
    }
   ],
   "source": [
    "test_string = \"Geeksforgeeks is best Computer Science Portal\"\n",
    "print('the kuku: '+ test_string)"
   ]
  },
  {
   "cell_type": "code",
   "execution_count": 4,
   "id": "909747f0",
   "metadata": {},
   "outputs": [],
   "source": [
    "# # 3. People often forget closing parentheses when entering formulas. Write a program that asks\n",
    "# #  the user to enter a formula and prints out whether the formula has the same number \n",
    "# # of openining and closing parentheses.\n",
    "\n",
    "# user = int(input('enter any equation with brackets'))\n",
    "# if ')'=='(':\n",
    "#     print('parenthesis is bal')\n"
   ]
  },
  {
   "cell_type": "code",
   "execution_count": 24,
   "id": "3ec0141a",
   "metadata": {},
   "outputs": [
    {
     "name": "stdout",
     "output_type": "stream",
     "text": [
      "Enter a word: halotigutoei\n",
      "a o i u o e i "
     ]
    }
   ],
   "source": [
    "# 4. Write a program that asks the user to enter a word and prints out whether that word contains\n",
    "# any vowels.\n",
    "word =input('Enter a word: ')\n",
    "# vowel='aeiou'\n",
    "for i in word:\n",
    "    if i == 'a' or i=='e' or i =='e' or i =='u' or i=='o' or i=='i':\n",
    "        print(i, end=' ')"
   ]
  },
  {
   "cell_type": "code",
   "execution_count": 18,
   "id": "3366e329",
   "metadata": {},
   "outputs": [],
   "source": [
    "# user =input('enter a word: ')\n",
    "# print(user.capitalize())\n",
    "# print(user.upper())\n",
    "# print(user.lower())"
   ]
  },
  {
   "cell_type": "code",
   "execution_count": 13,
   "id": "14a01055",
   "metadata": {},
   "outputs": [
    {
     "name": "stdout",
     "output_type": "stream",
     "text": [
      "enter a string: physics, chemistry,:\n",
      "physics, chemistry,:physics chemistry\n"
     ]
    }
   ],
   "source": [
    "# no 6\n",
    "# method 1\n",
    "s =input('enter a string: ')\n",
    "new_s=s.lower()\n",
    "# news=''\n",
    "remove=',.:'\n",
    "for c in new_s:\n",
    "    if c not in remove:\n",
    "        new_s += c\n",
    "print(new_s)\n"
   ]
  },
  {
   "cell_type": "code",
   "execution_count": 8,
   "id": "3ad0d7c1",
   "metadata": {},
   "outputs": [
    {
     "name": "stdout",
     "output_type": "stream",
     "text": [
      "enter a string: Physics, Chemistry,:\n",
      "physics chemistry\n"
     ]
    }
   ],
   "source": [
    "# no 6 \n",
    "# method 2\n",
    "s =input('enter a string: ')\n",
    "s=s.lower()\n",
    "for i in range(len(s)):\n",
    "    j=len(s)\n",
    "    if i<j and s[i] in ':,.':\n",
    "        s =s.replace(s[i],'')\n",
    "print(s)"
   ]
  },
  {
   "cell_type": "code",
   "execution_count": 11,
   "id": "5353bbe5",
   "metadata": {},
   "outputs": [
    {
     "name": "stdout",
     "output_type": "stream",
     "text": [
      "enter a formular: 3(a)+d(h(a+D)\n",
      "formular is invalid\n"
     ]
    }
   ],
   "source": [
    "f = input('enter a formular: ')\n",
    "if f.count('(') == f.count(')'):\n",
    "    print('formular is valid')\n",
    "else:\n",
    "    print('formular is invalid')"
   ]
  },
  {
   "cell_type": "code",
   "execution_count": 18,
   "id": "908a3808",
   "metadata": {},
   "outputs": [],
   "source": [
    "h=[1,2,3]\n"
   ]
  },
  {
   "cell_type": "code",
   "execution_count": 20,
   "id": "7a310e4e",
   "metadata": {},
   "outputs": [
    {
     "data": {
      "text/plain": [
       "[1, 2, 3]"
      ]
     },
     "execution_count": 20,
     "metadata": {},
     "output_type": "execute_result"
    }
   ],
   "source": [
    "p=h[:]\n",
    "p"
   ]
  },
  {
   "cell_type": "code",
   "execution_count": 22,
   "id": "174e2947",
   "metadata": {},
   "outputs": [],
   "source": [
    "m=h.copy()"
   ]
  },
  {
   "cell_type": "code",
   "execution_count": 23,
   "id": "ba451186",
   "metadata": {},
   "outputs": [
    {
     "data": {
      "text/plain": [
       "[1, 2, 3]"
      ]
     },
     "execution_count": 23,
     "metadata": {},
     "output_type": "execute_result"
    }
   ],
   "source": [
    "m"
   ]
  },
  {
   "cell_type": "code",
   "execution_count": 8,
   "id": "e4163bf8",
   "metadata": {},
   "outputs": [
    {
     "name": "stdout",
     "output_type": "stream",
     "text": [
      "enter 10 values1\n",
      "enter 10 values2\n",
      "enter 10 values3\n",
      "enter 10 values4\n",
      "enter 10 values5\n",
      "enter 10 values6\n",
      "enter 10 values78\n",
      "enter 10 values5\n",
      "enter 10 values\n",
      "enter 10 values6\n",
      "['1', '2', '3', '4', '5', '6', '78', '5', '', '6']\n"
     ]
    }
   ],
   "source": [
    "score=[]\n",
    "for i in range(10):\n",
    "    k=input('enter 10 values')\n",
    "    score.append(k)\n",
    "print(score)\n",
    "\n"
   ]
  },
  {
   "cell_type": "code",
   "execution_count": 9,
   "id": "05196844",
   "metadata": {},
   "outputs": [
    {
     "data": {
      "text/plain": [
       "['1', '2', '3', '4', '5', '6', '78', '5', '', '6']"
      ]
     },
     "execution_count": 9,
     "metadata": {},
     "output_type": "execute_result"
    }
   ],
   "source": [
    "score"
   ]
  },
  {
   "cell_type": "code",
   "execution_count": 16,
   "id": "47c1413a",
   "metadata": {},
   "outputs": [
    {
     "data": {
      "text/plain": [
       "6"
      ]
     },
     "execution_count": 16,
     "metadata": {},
     "output_type": "execute_result"
    }
   ],
   "source": [
    "m=[1,3,4,5,6]\n",
    "m.pop()"
   ]
  },
  {
   "cell_type": "code",
   "execution_count": 1,
   "id": "edd74df7",
   "metadata": {},
   "outputs": [],
   "source": [
    "import pandas as pd\n",
    "import numpy as np\n",
    "# url =pd.read_csv(\"https://raw.githubusercontent.com/fivethirtyeight/data/master/college-majors/recent-grads.csv\")\n",
    "# we = pd.read_csv(url).copy"
   ]
  },
  {
   "cell_type": "code",
   "execution_count": 5,
   "id": "70e5289c",
   "metadata": {},
   "outputs": [],
   "source": [
    "df2 = pd.read_csv(\"C:/Users/TOM\\Desktop/Python folder/data for analysis/used_cars_data.csv\")"
   ]
  },
  {
   "cell_type": "code",
   "execution_count": 6,
   "id": "b6be627a",
   "metadata": {},
   "outputs": [],
   "source": [
    "df = pd.read_csv(\"C:/Users/TOM/Desktop/Python folder/data for analysis/dataInsurance.csv\", sep=\",\",engine='python')"
   ]
  },
  {
   "cell_type": "code",
   "execution_count": 19,
   "id": "a20ca785",
   "metadata": {},
   "outputs": [
    {
     "data": {
      "text/plain": [
       "['1', '2', '3', '4', '5', '6', '78', '5', '', '6']"
      ]
     },
     "execution_count": 19,
     "metadata": {},
     "output_type": "execute_result"
    }
   ],
   "source": [
    "score"
   ]
  },
  {
   "cell_type": "code",
   "execution_count": 24,
   "id": "e5ce723a",
   "metadata": {},
   "outputs": [
    {
     "name": "stdout",
     "output_type": "stream",
     "text": [
      "['1', '2', '3', '4', '5', '6', '78', '5', '', '6']\n"
     ]
    }
   ],
   "source": [
    "s=[]\n",
    "for i in score:\n",
    "    s.append(i)\n",
    "print(s)\n",
    "    "
   ]
  },
  {
   "cell_type": "code",
   "execution_count": 21,
   "id": "7730e844",
   "metadata": {},
   "outputs": [
    {
     "name": "stdout",
     "output_type": "stream",
     "text": [
      "['1', '2', '3', '4', '5', '6', '78', '5', '', '6', '1', '2', '3', '4', '5', '6', '78', '5', '', '6']\n"
     ]
    }
   ],
   "source": [
    "print(score + score)"
   ]
  },
  {
   "cell_type": "code",
   "execution_count": 12,
   "id": "7df99a60",
   "metadata": {},
   "outputs": [
    {
     "data": {
      "text/plain": [
       "3.0"
      ]
     },
     "execution_count": 12,
     "metadata": {},
     "output_type": "execute_result"
    }
   ],
   "source": [
    "lo =[1,2,3,4,5]\n",
    "ave= sum(lo)/len(lo)\n",
    "ave"
   ]
  },
  {
   "cell_type": "code",
   "execution_count": 36,
   "id": "fbbfe756",
   "metadata": {},
   "outputs": [],
   "source": [
    "# lo =lo.replace(1,'x')"
   ]
  },
  {
   "cell_type": "code",
   "execution_count": 54,
   "id": "005c244a",
   "metadata": {},
   "outputs": [],
   "source": [
    "k =[11,2,7,4,5]"
   ]
  },
  {
   "cell_type": "code",
   "execution_count": 55,
   "id": "96421342",
   "metadata": {},
   "outputs": [
    {
     "data": {
      "text/plain": [
       "[2, 4, 5, 7, 11]"
      ]
     },
     "execution_count": 55,
     "metadata": {},
     "output_type": "execute_result"
    }
   ],
   "source": [
    "k.sort()\n",
    "k"
   ]
  },
  {
   "cell_type": "code",
   "execution_count": 58,
   "id": "f10b3d83",
   "metadata": {},
   "outputs": [
    {
     "data": {
      "text/plain": [
       "[2, 'u', 'u', 4, 5, 7, 11]"
      ]
     },
     "execution_count": 58,
     "metadata": {},
     "output_type": "execute_result"
    }
   ],
   "source": [
    "k.insert(1,'u')\n",
    "k"
   ]
  },
  {
   "cell_type": "code",
   "execution_count": 60,
   "id": "590f28b0",
   "metadata": {},
   "outputs": [],
   "source": [
    "# help(list)"
   ]
  },
  {
   "cell_type": "code",
   "execution_count": 65,
   "id": "11ce7ed2",
   "metadata": {},
   "outputs": [],
   "source": [
    "# for i in range(len(k)):\n",
    "#     print(k[i])"
   ]
  },
  {
   "cell_type": "code",
   "execution_count": 107,
   "id": "873a6d17",
   "metadata": {},
   "outputs": [
    {
     "name": "stdout",
     "output_type": "stream",
     "text": [
      "[56, 66, 14, 70, 12, 37, 57, 53, 47, 52, 26, 2, 44, 59, 32, 40, 45, 25, 66, 82, 19, 65, 90, 49, 40, 41, 33, 19, 51, 87, 5, 54, 45, 32, 46, 90, 28, 49, 87, 1, 31, 5, 95, 25, 28, 43, 68, 84, 51, 7]\n",
      "****************************************************************************************************\n",
      "[91, 92, 93, 94, 95, 96, 97, 98, 99, 100]\n",
      "****************************************************************************************************\n",
      "1\n",
      "2\n",
      "3\n",
      "4\n",
      "5\n",
      "6\n",
      "7\n",
      "8\n",
      "9\n",
      "10\n"
     ]
    }
   ],
   "source": [
    "from random import randint \n",
    "# l=[5,4,6,3,8,7]\n",
    "s=[]\n",
    "for i in range(50):\n",
    "    s = s + [randint(1,100)]\n",
    "print(s)\n",
    "print('*'*100)\n",
    "\n",
    "\n",
    "k=[]\n",
    "for i in range(1,101):\n",
    "    if i > 90:\n",
    "        k.append(i)\n",
    "print(k)\n",
    "print('*'*100)\n",
    "\n",
    "count=0\n",
    "# p=[]\n",
    "for item in range(1,101):\n",
    "    if item > 90:\n",
    "        count += 1\n",
    "        print(count)"
   ]
  },
  {
   "cell_type": "code",
   "execution_count": 12,
   "id": "db31dcce",
   "metadata": {},
   "outputs": [
    {
     "name": "stdout",
     "output_type": "stream",
     "text": [
      "2 largest numbers are:  47 34\n",
      "2 smallest numbers are:  1 2\n"
     ]
    }
   ],
   "source": [
    "m=[1,5,2,4,3,47,34,2,4]\n",
    "m.sort()\n",
    "print(\"2 largest numbers are: \", m[-1], m[-2])\n",
    "print(\"2 smallest numbers are: \", m[0], m[1])"
   ]
  },
  {
   "cell_type": "code",
   "execution_count": 25,
   "id": "6b4c5a74",
   "metadata": {},
   "outputs": [
    {
     "name": "stdout",
     "output_type": "stream",
     "text": [
      "what is the capital od france? germany\n",
      "wrong answer. the right answer is paris\n",
      "you have  0 out of 1 right\n"
     ]
    }
   ],
   "source": [
    "number_right=0\n",
    "print('what is the capital od france?',end=' ')\n",
    "guess =input()\n",
    "if guess.lower() =='paris':\n",
    "    print('correct!')\n",
    "    number_right += 1\n",
    "else:\n",
    "    print('wrong answer. the right answer is paris')\n",
    "print('you have ', number_right, 'out of 1 right')"
   ]
  },
  {
   "cell_type": "code",
   "execution_count": 26,
   "id": "aef399d0",
   "metadata": {},
   "outputs": [],
   "source": [
    "# children method to solve this question above\n",
    "\n",
    "# guess =input('what is the capital of france?')\n",
    "# if guess.lower() == 'paris':\n",
    "#     print('correct answer!')\n",
    "# else:\n",
    "#     print('wrong answer. The right answer is paris.')"
   ]
  },
  {
   "cell_type": "code",
   "execution_count": 8,
   "id": "26cc7ee1",
   "metadata": {},
   "outputs": [
    {
     "name": "stdout",
     "output_type": "stream",
     "text": [
      "what is your favorite fruit?lemon\n",
      "wrong, the correct answer is apple\n",
      "you have 0 out of 1 guess\n",
      "what is your favorite food?fufu\n",
      "wrong, the correct answer is garri\n",
      "you have 0 out of 2 guess\n"
     ]
    }
   ],
   "source": [
    "question =['what is your favorite fruit?','what is your favorite food?']\n",
    "answer =['apple','garri']\n",
    "num_right=0\n",
    "for i in range(len(question)):\n",
    "    quess =input(question[i])\n",
    "    if quess ==answer[i].lower():\n",
    "        num_right += 1\n",
    "        print('correct')\n",
    "    else:\n",
    "        print('wrong, the correct answer is', answer[i])\n",
    "        print('you have', num_right, 'out of', i+1, 'guess')"
   ]
  },
  {
   "cell_type": "code",
   "execution_count": 6,
   "id": "3f43b2e3",
   "metadata": {},
   "outputs": [
    {
     "name": "stdout",
     "output_type": "stream",
     "text": [
      "adcb\n",
      "a\n",
      "adcb\n"
     ]
    }
   ],
   "source": [
    "h=['a','ab','abc','adcb']\n",
    "print(max(h,key=len))\n",
    "print(min(h,key=len))\n",
    "print(max(h))"
   ]
  },
  {
   "cell_type": "code",
   "execution_count": 25,
   "id": "21e52102",
   "metadata": {},
   "outputs": [
    {
     "data": {
      "text/plain": [
       "[1, 10, 'see', 9]"
      ]
     },
     "execution_count": 25,
     "metadata": {},
     "output_type": "execute_result"
    }
   ],
   "source": [
    "s=[1,5,9]\n",
    "s.insert(1,10)\n",
    "s[2]='see'\n",
    "s"
   ]
  },
  {
   "cell_type": "code",
   "execution_count": 4,
   "id": "18c31fe5",
   "metadata": {},
   "outputs": [],
   "source": [
    "# def fun(element):\n",
    "#     return(fun)\n",
    "# k=[1,2,3,4,5,6,2,5]\n",
    "# print(max(k,key=fun))"
   ]
  },
  {
   "cell_type": "markdown",
   "id": "84a60687",
   "metadata": {},
   "source": [
    "### EXERCISES ON LIST CHAPTER 7.\n",
    "### QUESTION 1"
   ]
  },
  {
   "cell_type": "code",
   "execution_count": 47,
   "id": "0009b739",
   "metadata": {},
   "outputs": [
    {
     "name": "stdout",
     "output_type": "stream",
     "text": [
      "enter a list: 1\n",
      "enter a list: 2\n",
      "enter a list: 3\n",
      "enter a list: \n",
      "enter a list: 4\n",
      "['1', '2', '3', '', '4']\n",
      "5\n",
      "************************************************************\n",
      "the last element in the list is:  9\n",
      "************************************************************\n",
      "9\n",
      "7\n",
      "5\n",
      "4\n",
      "1\n",
      "************************************************************\n",
      "No\n",
      "No\n",
      "Yes\n",
      "No\n",
      "No\n",
      "************************************************************\n",
      "the number of 5 is 1\n",
      "************************************************************\n",
      "[4, 7, 9, 10]\n",
      "1\n",
      "4\n",
      "2\n",
      "************************************************************\n"
     ]
    }
   ],
   "source": [
    "# 1. Write a program that asks the user to enter a list of integers. Do the following:\n",
    "# (a) Print the total number of items in the list.\n",
    "#pseudo code:\n",
    "# 1. declare an empty list called #listic\n",
    "# 2. iterate through the range\n",
    "# 3. ask the user to enter the list thru input\n",
    "# 4. append listic and use len to find the number of items\n",
    "\n",
    "listic=[]\n",
    "# Note: listic = 1,4,5,7,9\n",
    "num=5  \n",
    "for n in range(num):\n",
    "    listic.append(input('enter a list: '))\n",
    "print(listic)\n",
    "print(len(listic))\n",
    "print('*'*60)\n",
    "\n",
    "# (b) Print the last item in the list.\n",
    "listic = [1,4,5,7,9]\n",
    "print('the last element in the list is: listic.pop()')\n",
    "print('*'*60)\n",
    "\n",
    "# (c) Print the list in reverse order.\n",
    "listic = [1,4,5,7,9]\n",
    "# print(listic.reverse())\n",
    "print(listic[::-1])\n",
    "print('*'*60)\n",
    "\n",
    "# method 2:\n",
    "listic = [1,4,5,7,9]\n",
    "for i in reversed(listic):\n",
    "    print(i)\n",
    "print('*'*60)\n",
    "\n",
    "# (d) Print Yes if the list contains a 5 and No otherwise.\n",
    "listic = [1,4,5,7,9]\n",
    "for i in listic:\n",
    "    if i == 5:\n",
    "        print('Yes')\n",
    "    else:\n",
    "        print('No')\n",
    "print('*'*60)\n",
    "    \n",
    "# (e) Print the number of fives in the list.\n",
    "listic = [1,4,5,7,9]\n",
    "count=0\n",
    "for i in listic:\n",
    "    if i == 5:\n",
    "        count += 1\n",
    "        print(f'the number of 5 is {count}')\n",
    "print('*'*60)\n",
    "# (f) Remove the first and last items from the list, sort the remaining items, and print the result\n",
    "listic = [1,4,10,7,9,2]\n",
    "del listic[0]\n",
    "pop()\n",
    "listic.sort()\n",
    "print(listic)\n",
    "\n",
    "# (g) Print how many integers in the list are less than 5\n",
    "listic = [1,4,10,7,9,2]\n",
    "for i in listic:\n",
    "    if i < 5:\n",
    "        print(i)\n",
    "\n",
    "\n",
    "# USING FUNCTIONS TO SOLVE THE PROBLEMS IN LIST:\n",
    "# QUESTION 1\n",
    "\n",
    "# def listic():\n",
    "#     m =5\n",
    "#     listic =[]\n",
    "#     for n in range(m):\n",
    "#         listic.append(input(\"enter a list: \"))\n",
    "#     print(listic) \n",
    "#     print(len(listic))\n",
    "#     print('*'*60)\n",
    "#     return listic\n",
    "\n",
    "# # (b) Print the last item in the list.\n",
    "\n",
    "# #  listic = [1,4,5,7,9]\n",
    "\n",
    "# def last_element(listic):\n",
    "#     listic = [1,4,5,7,9]\n",
    "#     print('the last element in the list is: ',listic.pop())\n",
    "#     print('*'*60)\n",
    "#     return last_element\n",
    "\n",
    "# # (c) Print the list in reverse order.\n",
    "\n",
    "# def change_list(listic):\n",
    "#     listic = [1,4,5,7,9]\n",
    "#     for i in reversed(listic):\n",
    "#         print(i)\n",
    "#     print('*'*60)\n",
    "#     return change_list\n",
    "\n",
    "\n",
    "# # (d) Print Yes if the list contains a 5 and No otherwise.\n",
    "# def check_5(listic):\n",
    "#     listic = [1,4,5,7,9]\n",
    "#     for i in listic:\n",
    "#         if i == 5:\n",
    "#             print('Yes')\n",
    "#         else:\n",
    "#             print('No')\n",
    "#     print('*'*60)\n",
    "#     return check_5\n",
    "\n",
    "# # (e) Print the number of fives in the list.\n",
    "# def count_x(listic):\n",
    "#     listic = [1,4,5,7,9]\n",
    "#     count=0\n",
    "#     for i in listic:\n",
    "#         if i == 5:\n",
    "#             count += 1\n",
    "#             print(f'the number of 5 is {count}')\n",
    "#     print('*'*60)\n",
    "#     return count_x\n",
    "    \n",
    "# # (f) Remove the first and last items from the list, sort the remaining items, and print the result\n",
    "# def sort_x(listic):\n",
    "#     listic = [1,4,10,7,9,2]\n",
    "#     del listic[0]\n",
    "#     listic.pop()\n",
    "#     listic.sort()\n",
    "#     print(listic)\n",
    "#     print('*'*60)\n",
    "#     return sort_x\n",
    "\n",
    "# # (g) Print how many integers in the list are less than 5\n",
    "# def less_than_5(listic):\n",
    "#     listic = [1,4,10,7,9,2]\n",
    "#     for i in listic:\n",
    "#         if i < 5:\n",
    "#             print(i)\n",
    "#     print('*'*60)\n",
    "#     return less_than_5\n",
    "    \n",
    "        \n",
    "# def main():\n",
    "#     load =listic()\n",
    "#     lat=last_element(listic)\n",
    "#     chan=change_list(listic)\n",
    "#     checker=check_5(listic)\n",
    "#     count=count_x(listic)\n",
    "#     sort=sort_x(listic)\n",
    "#     less=less_than_5(listic)\n",
    "    \n",
    "      \n",
    "# if __name__==\"__main__\":\n",
    "#     main()\n"
   ]
  },
  {
   "cell_type": "markdown",
   "id": "9ae6e292",
   "metadata": {},
   "source": [
    "### EXERCISES ON LIST CHAPTER 7.\n",
    "\n",
    "### QUESTION 2"
   ]
  },
  {
   "cell_type": "code",
   "execution_count": 54,
   "id": "8de6a4a1",
   "metadata": {},
   "outputs": [
    {
     "name": "stdout",
     "output_type": "stream",
     "text": [
      "[7, 69, 64, 36, 62, 57, 36, 58, 21, 59, 8, 88, 24, 45, 9, 82, 5, 70, 29, 19, 1, 75, 26, 26, 62, 98, 15, 28, 94, 100, 83, 38, 39, 14, 86, 35, 98, 21, 61, 86, 46, 64, 16, 39, 31, 4, 52, 4, 79, 28]\n",
      "****************************************************************************************************\n",
      "45.94\n",
      "****************************************************************************************************\n",
      "smallest value is:  1\n",
      "largest value is:  100\n",
      "****************************************************************************************************\n",
      "second largest value is:  79\n",
      "****************************************************************************************************\n",
      "29\n",
      "****************************************************************************************************\n"
     ]
    }
   ],
   "source": [
    "# 2. Write a program that generates a list of 20 random numbers between 1 and 100.\n",
    "from random import randint\n",
    "data =[]\n",
    "for i in range(50):\n",
    "    ran =(randint(1,101))\n",
    "    data.append(ran)\n",
    "# (a) Print the list.\n",
    "print(data)\n",
    "print('*'*100)\n",
    "\n",
    "# (b) Print the average of the elements in the list.\n",
    "# average(ave) =sum of elements(sum)/total number of elements(total)\n",
    "avg =sum(data)/len(data)\n",
    "print(avg)\n",
    "print('*'*100)\n",
    "\n",
    "# (c) Print the largest and smallest values in the list.\n",
    "data.sort\n",
    "print('smallest value is: ',min(data))\n",
    "print('largest value is: ',max(data))\n",
    "\n",
    "print('*'*100)\n",
    "# (d) Print the second largest and second smallest entries in the list\n",
    "print('second largest value is: ', data[-2])\n",
    "print('*'*100)\n",
    "\n",
    "# (e) Print how many even numbers are in the list.\n",
    "count =0\n",
    "for i in data:\n",
    "    if i%2==0:\n",
    "        count += 1\n",
    "print(count)\n",
    "print('*'*100)"
   ]
  },
  {
   "cell_type": "markdown",
   "id": "5ec296dc",
   "metadata": {},
   "source": [
    "### EXERCISES ON LIST CHAPTER 7.\n",
    "\n",
    "### QUESTION 3"
   ]
  },
  {
   "cell_type": "code",
   "execution_count": 21,
   "id": "a366b713",
   "metadata": {},
   "outputs": [
    {
     "name": "stdout",
     "output_type": "stream",
     "text": [
      "[8, 17, 10]\n",
      "________________________________________________________________________________\n",
      "[8, 17, 10, 4, 5, 6]\n",
      "________________________________________________________________________________\n",
      "[17, 10, 4, 5, 6]\n",
      "________________________________________________________________________________\n",
      "[4, 5, 6, 10, 17]\n",
      "________________________________________________________________________________\n",
      "[4, 5, 6, 10, 17, 4, 5, 6, 10, 17]\n",
      "________________________________________________________________________________\n"
     ]
    },
    {
     "data": {
      "text/plain": [
       "[4, 5, 6, 25, 10, 17, 4, 5, 6, 10, 17]"
      ]
     },
     "execution_count": 21,
     "metadata": {},
     "output_type": "execute_result"
    }
   ],
   "source": [
    "# Start with the list [8,9,10]. Do the following:\n",
    "\n",
    "# (a) Set the second entry (index 1) to 17\n",
    "data=[8,9,10]\n",
    "data[1]=17\n",
    "print(data)\n",
    "print('__'*40)\n",
    "\n",
    "# (b) Add 4, 5, and 6 to the end of the list\n",
    "data.extend([4,5,6])\n",
    "print(data)\n",
    "print('__'*40)\n",
    "\n",
    "# (c) Remove the first entry from the list\n",
    "del data[0]\n",
    "print(data)\n",
    "print('__'*40)\n",
    "\n",
    "# (d) Sort the list\n",
    "data.sort()\n",
    "print(data)\n",
    "print('__'*40)\n",
    "\n",
    "# (e) Double the list\n",
    "data2=data + data\n",
    "print(data2)\n",
    "print('__'*40)\n",
    "\n",
    "# (f) Insert 25 at index 3\n",
    "data2.insert(3,25)\n",
    "data2\n",
    "\n",
    "# The final list should equal [4,5,6,25,10,17,4,5,6,10,17]"
   ]
  },
  {
   "cell_type": "code",
   "execution_count": 31,
   "id": "ffc9d719",
   "metadata": {},
   "outputs": [
    {
     "name": "stdout",
     "output_type": "stream",
     "text": [
      "enter a list: 4\n",
      "enter a list: 1\n",
      "enter a list: 7\n",
      "enter a list: 8\n",
      "enter a list: 11\n",
      "enter a list: 3\n",
      "enter a list: 8\n",
      "enter a list: 12\n",
      "enter a list: 4\n",
      "enter a list: 11\n",
      "enter a list: 4\n",
      "enter a list: 11\n",
      "[4, 1, 7, 8, 10, 3, 8, 10, 4, 10, 4, 10]\n"
     ]
    }
   ],
   "source": [
    "# 4. Ask the user to enter a list containing numbers between 1 and 12. Then replace all of the\n",
    "# entries in the list that are greater than 10 with 10.\n",
    "#input: [3, 11, 5, 8,9, 12, 6, 1, 12, 6,12, 9, 12, 9, 12, 11]\n",
    "\n",
    "# data = eval(input('Enter a list: '))\n",
    "# size = len(data)\n",
    "# for i in range(size):\n",
    "#     if data[i] > 10:\n",
    "#         data[i] = 10\n",
    "        \n",
    "# print(data)\n",
    "        \n",
    "        \n",
    "list1=[]\n",
    "for i in range(12):\n",
    "    list2=eval(input('enter a num between 1 and 12: '))\n",
    "    list1.append(list2)\n",
    "for m in range(len(list1)):\n",
    "    if list1[m] > 10:\n",
    "        list1[m]=10\n",
    "print(list1)\n",
    "            \n",
    "            "
   ]
  },
  {
   "cell_type": "code",
   "execution_count": 72,
   "id": "5bc297cd",
   "metadata": {},
   "outputs": [
    {
     "name": "stdout",
     "output_type": "stream",
     "text": [
      "enter a list of strings: ['Tom','Mike','Mark','Jet','Gold']\n",
      "['om', 'ike', 'ark', 'et', 'old']\n"
     ]
    }
   ],
   "source": [
    "# NO 5. Ask the user to enter a list of strings. Create a new list that consists of those \n",
    "# strings with their first characters removed.\n",
    "\n",
    "# data_string =['Tom','Mike','Mark','Jet','Gold']\n",
    "data = eval(input('enter a list of strings: '))\n",
    "for i in range(len(data)):\n",
    "    data[i]=data[i][1:]\n",
    "print(data)\n",
    "    "
   ]
  },
  {
   "cell_type": "code",
   "execution_count": 69,
   "id": "753a6cf6",
   "metadata": {},
   "outputs": [
    {
     "name": "stdout",
     "output_type": "stream",
     "text": [
      "['a', 'bb', 'ccc', 'dddd', 'eeeee', 'ffffff', 'ggggggg', 'hhhhhhhh', 'iiiiiiiii', 'jjjjjjjjjj', 'kkkkkkkkkkk', 'llllllllllll', 'mmmmmmmmmmmmm', 'nnnnnnnnnnnnnn', 'ooooooooooooooo', 'pppppppppppppppp', 'qqqqqqqqqqqqqqqqq', 'rrrrrrrrrrrrrrrrrr', 'sssssssssssssssssss', 'tttttttttttttttttttt', 'uuuuuuuuuuuuuuuuuuuuu', 'vvvvvvvvvvvvvvvvvvvvvv', 'wwwwwwwwwwwwwwwwwwwwwww', 'xxxxxxxxxxxxxxxxxxxxxxxx', 'yyyyyyyyyyyyyyyyyyyyyyyyy', 'zzzzzzzzzzzzzzzzzzzzzzzzzz']\n"
     ]
    }
   ],
   "source": [
    "# 6. Create the following lists using a for loop.\n",
    "# (a) A list consisting of the integers 0 through 49\n",
    "\n",
    "# data=[i for i in range(1,50)]\n",
    "# print(data)\n",
    "# print('*'*100)\n",
    "\n",
    "# # (b) A list containing the squares of the integers 1 through 50.\n",
    "# data =[i**2 for i in range(1,51)]\n",
    "# print(data)\n",
    "# print('*'*100)\n",
    "\n",
    "\n",
    "# (c) The list ['a','bb','ccc','dddd', . . . ] that ends with 26 copies of the letter z\n",
    "bet='abcdefghijklmnopqrstuvwxyz'\n",
    "size=len(bet)\n",
    "l=[]\n",
    "for i in range(size):\n",
    "    lo=bet[i]*(i+1)\n",
    " \n",
    "    l.append(lo)\n",
    "print(l)\n",
    "    \n",
    "# lo=[bet([i]*[i+1]) for i in bet]\n",
    "# print(lo)\n",
    "# l=[bet([i]*[i+1]) for i in range(len(lo))]"
   ]
  },
  {
   "cell_type": "code",
   "execution_count": 77,
   "id": "9d683e40",
   "metadata": {},
   "outputs": [
    {
     "name": "stdout",
     "output_type": "stream",
     "text": [
      "[4, 6, 13]\n"
     ]
    }
   ],
   "source": [
    "# 7. Write a program that takes any two lists L and M of the same size and adds their elements\n",
    "# together to form a new list N whose elements are sums of the corresponding elements in L\n",
    "# and M. For instance, if L=[3,1,4] and M=[1,5,9], then N should equal [4,6,13].\n",
    "# solution\n",
    "L=[3,1,4]\n",
    "M=[1,5,9]\n",
    "# N=[]\n",
    "# for i in range(len(L)):\n",
    "#     if len(L)==len(M):\n",
    "#         K= L[i] + M[i]\n",
    "#         N.append(K)\n",
    "# print(N)\n",
    "\n",
    "# list comprehension\n",
    "N =[L[i]+M[i] for i in range(len(L)) if len(L)==len(M)]\n",
    "print(N)"
   ]
  },
  {
   "cell_type": "code",
   "execution_count": 71,
   "id": "b8028629",
   "metadata": {},
   "outputs": [
    {
     "name": "stdout",
     "output_type": "stream",
     "text": [
      "[283, 524, 879, 1083, 1406, 1629, 1374, 1088, 860, 592, 282]\n",
      "0.0283\n",
      "0.0524\n",
      "0.0879\n",
      "0.1083\n",
      "0.1406\n",
      "0.1629\n",
      "0.1374\n",
      "0.1088\n",
      "0.086\n",
      "0.0592\n",
      "0.0282\n"
     ]
    }
   ],
   "source": [
    "# 9. When playing games where you have to roll two dice, it is nice to know the odds of each\n",
    "# roll. For instance, the odds of rolling a 12 are about 3%, and the odds of rolling a 7 are about\n",
    "# 17%. You can compute these mathematically, but if you don’t know the math, you can write\n",
    "# a program to do it. To do this, your program should simulate rolling two dice about 10,000\n",
    "# times and compute and print out the percentage of rolls that come out to be 2, 3, 4, . . . , 12\n",
    "\n",
    "# solution\n",
    "from random import randint\n",
    "a =randint(1,6) + randint(1,6)\n",
    "prob=[2,3,4,5,6,7,8,9,10,11,12]\n",
    "freq=[0]*11\n",
    "for k in range(10000):\n",
    "    a =randint(1,6) + randint(1,6)\n",
    "    freq[prob.index(a)] += 1\n",
    "print(freq)\n",
    "    \n",
    "for j in range(len(freq)):\n",
    "    pro=freq[j]/10000\n",
    "    print(pro)"
   ]
  },
  {
   "cell_type": "markdown",
   "id": "559208c6",
   "metadata": {},
   "source": [
    "### CHAPTER 8"
   ]
  },
  {
   "cell_type": "code",
   "execution_count": 1,
   "id": "aed24777",
   "metadata": {},
   "outputs": [
    {
     "name": "stdout",
     "output_type": "stream",
     "text": [
      "enter some text: a boy is the small man and the \n",
      "['a', 'boy', 'is', 'the', 'small', 'man', 'and', 'the', '']\n",
      "3\n"
     ]
    }
   ],
   "source": [
    "# 1. Write a program that asks the user to enter some text and then counts how many articles are\n",
    "# in the text. Articles are the words 'a', 'an', and 'the'.\n",
    "\n",
    "user=input('enter some text: ')\n",
    "words=user.split(' ')\n",
    "count=0\n",
    "# article=['a','an','the']\n",
    "for i in words:\n",
    "    if i=='a' or i=='an' or i=='the':\n",
    "        count += 1\n",
    "print(words)\n",
    "print(count)"
   ]
  },
  {
   "cell_type": "code",
   "execution_count": 14,
   "id": "98c77732",
   "metadata": {},
   "outputs": [
    {
     "name": "stdout",
     "output_type": "stream",
     "text": [
      "enter 5 strings: 1\n",
      "enter 5 strings: 2\n",
      "enter 5 strings: 3\n",
      "enter 5 strings: 4\n",
      "enter 5 strings: 5\n",
      "1+2+3+4+5\n"
     ]
    }
   ],
   "source": [
    "# 2. Write a program that allows the user to enter five numbers (read as strings). Create a string\n",
    "# that consists of the user’s numbers separated by plus signs. For instance, if the user enters 2,\n",
    "# 5, 11, 33, and 55, then the string should be '2+5+11+33+55'.  \n",
    "\n",
    "L=[]\n",
    "for i in range(5):\n",
    "    user=input('enter 5 strings: ')\n",
    "    L.append(user)\n",
    "print('+'.join(L))\n"
   ]
  },
  {
   "cell_type": "code",
   "execution_count": 7,
   "id": "5c85a114",
   "metadata": {},
   "outputs": [
    {
     "name": "stdout",
     "output_type": "stream",
     "text": [
      "enter a sentence:i am ret\n",
      "ret\n"
     ]
    }
   ],
   "source": [
    "# 3. (a) Ask the user to enter a sentence and print out the third word of the sentence.\n",
    "from random import choice\n",
    "sen=input(\"enter a sentence:\")\n",
    "flat=sen.split(' ')\n",
    "print(flat[2])\n",
    "\n",
    "# (b) Ask the user to enter a sentence and print out every third word of the sentence.\n",
    "# sen=input(\"enter a sentence:\")\n",
    "# flat=sen.split(' ')\n",
    "# print(flat)"
   ]
  },
  {
   "cell_type": "code",
   "execution_count": 7,
   "id": "fff3da9b",
   "metadata": {},
   "outputs": [
    {
     "name": "stdout",
     "output_type": "stream",
     "text": [
      "0\n"
     ]
    }
   ],
   "source": [
    "# 7. Write a program that estimates the average number of drawings it takes before the user’s\n",
    "# numbers are picked in a lottery that consists of correctly picking six different numbers that\n",
    "# are between 1 and 10. To do this, run a loop 1000 times that randomly generates a set of\n",
    "# user numbers and simulates drawings until the user’s numbers are drawn. Find the average\n",
    "# number of drawings needed over the 1000 times the loop runs.\n",
    "\n",
    "from random import shuffle,randint,sample,choice\n",
    "user=[randint(1,10) for i in range(6)]\n",
    "# print(user)\n",
    "\n",
    "correct =False\n",
    "count_correct=0\n",
    "for i in range(1000):\n",
    "    L=[i for i in range(1,11)]\n",
    "    Ls=sample(L,6)\n",
    "    drawings=Ls\n",
    "    for k in range(len(drawings)):\n",
    "        if drawings.count(drawings[k]) ==user.count(drawings[k]):\n",
    "            correct =True\n",
    "        else:\n",
    "            correct=False\n",
    "            break\n",
    "\n",
    "    if correct==True:\n",
    "        count_correct +=1\n",
    "        count_correct=k\n",
    "        break\n",
    "print(count_correct)"
   ]
  },
  {
   "cell_type": "markdown",
   "id": "aa1f643e",
   "metadata": {},
   "source": [
    "## CHAPTER 9"
   ]
  },
  {
   "cell_type": "code",
   "execution_count": 9,
   "id": "5d20965d",
   "metadata": {},
   "outputs": [
    {
     "name": "stdout",
     "output_type": "stream",
     "text": [
      "1 2 3 4 5 6 7 8 9 10 11 12 13 14 15 16 17 18 19 20 21 22 23 24 25 26 27 28 29 30 31 32 33 34 35 36 37 38 39 40 41 42 43 44 45 46 47 48 49 50 1 2 3 4 5 6 7 8 9 10 11 12 13 14 15 16 17 18 19 20 21 22 23 24 25 26 27 28 29 30 31 32 33 34 35 36 37 38 39 40 41 42 43 44 45 46 47 48 49 50 "
     ]
    }
   ],
   "source": [
    "#  1. The code below prints the numbers from 1 to 50. Rewrite the code using a while loop to\n",
    "# accomplish the same thing.\n",
    "for i in range(1,51):\n",
    "    print(i,end=' ')\n",
    "i=1\n",
    "while i < 51:\n",
    "    print(i, end=' ')\n",
    "    i=i+1\n"
   ]
  },
  {
   "cell_type": "code",
   "execution_count": 32,
   "id": "a9dc09cb",
   "metadata": {},
   "outputs": [
    {
     "name": "stdout",
     "output_type": "stream",
     "text": [
      "enter a string: domale\n",
      "d\n",
      "o\n",
      "m\n",
      "a\n",
      "l\n",
      "e\n"
     ]
    }
   ],
   "source": [
    "# Python chapter 9, no 2. \n",
    "# (a) Write a program that uses a while loop (not a for loop) to read through a string and print\n",
    "# the characters of the string one-by-one on separate lines.\n",
    "\n",
    "data =input('enter a string: ')\n",
    "i=0\n",
    "lenght=len(data)\n",
    "while i < lenght:\n",
    "    print(data[i])\n",
    "    i=i+1\n",
    "# (b) Modify the program above to print out every second character of the string."
   ]
  },
  {
   "cell_type": "code",
   "execution_count": 24,
   "id": "a488df74",
   "metadata": {},
   "outputs": [
    {
     "name": "stdout",
     "output_type": "stream",
     "text": [
      "[10, 1, 2, 3, 4, 5, 6, 7, 8, 9]\n"
     ]
    }
   ],
   "source": [
    "# How to rotate a list\n",
    "score =[1,2,3,4,5,6,7,8,9,10]\n",
    "size=len(score)\n",
    "last=score[-1]\n",
    "for i in range(size-1, 0, -1):\n",
    "    score[i]=score[i-1]\n",
    "score[0]=last\n",
    "print(score)"
   ]
  },
  {
   "cell_type": "code",
   "execution_count": 9,
   "id": "024e56a7",
   "metadata": {},
   "outputs": [
    {
     "name": "stdout",
     "output_type": "stream",
     "text": [
      "['man', 'good', 'kay', 'great', 'pick', 'letter', 'too', 'see', 'smaile']\n",
      "man\n"
     ]
    }
   ],
   "source": [
    "# 10.Write a program that has a list of ten words, some of which have repeated letters and some\n",
    "# which don’t. Write a program that picks a random word from the list that does not have any\n",
    "# repeated letters.\n",
    "\n",
    "from random import shuffle\n",
    "word =['letter','great','pick','smaile','see','man','too','kay','good']\n",
    "shuffle(word)\n",
    "print(word)\n",
    "# for each word\n",
    "# count the leteers\n",
    "# if a letter-count >1\n",
    "# the word is has a repeated character\n",
    "# else:\n",
    "#     the word has a unique character\n",
    "#     return word\n",
    "# end\n",
    "\n",
    "# medthos 1\n",
    "for w in word:\n",
    "    for c in w:\n",
    "        if w.count(c) >1:\n",
    "            break\n",
    "    else:\n",
    "        print(w)\n",
    "        break\n"
   ]
  },
  {
   "cell_type": "code",
   "execution_count": 11,
   "id": "97b5592c",
   "metadata": {},
   "outputs": [],
   "source": [
    "# method 2"
   ]
  },
  {
   "cell_type": "code",
   "execution_count": 14,
   "id": "55c78dd1",
   "metadata": {},
   "outputs": [
    {
     "name": "stdout",
     "output_type": "stream",
     "text": [
      "man\n"
     ]
    }
   ],
   "source": [
    "from random import shuffle\n",
    "words =['letter','great','pick','smaile','see','man','too','kay','good']\n",
    "shuffle(words)\n",
    "for w in words:\n",
    "    word=set(w)\n",
    "    if len(w) != len(word):\n",
    "        pass\n",
    "    else:\n",
    "        print(w)\n",
    "        break"
   ]
  },
  {
   "cell_type": "code",
   "execution_count": null,
   "id": "c94f3d68",
   "metadata": {},
   "outputs": [],
   "source": [
    "# method 3"
   ]
  },
  {
   "cell_type": "code",
   "execution_count": 19,
   "id": "9bfa40a8",
   "metadata": {},
   "outputs": [
    {
     "name": "stdout",
     "output_type": "stream",
     "text": [
      "smaile\n"
     ]
    }
   ],
   "source": [
    "from random import shuffle\n",
    "words =['letter','great','pick','smaile','see','man','too','kay','good']\n",
    "shuffle(words)\n",
    "for w in words:\n",
    "    word=set(w)\n",
    "    if len(word)==len(w):\n",
    "        print(w)\n",
    "        break"
   ]
  },
  {
   "cell_type": "code",
   "execution_count": 99,
   "id": "2281a844",
   "metadata": {},
   "outputs": [
    {
     "name": "stdout",
     "output_type": "stream",
     "text": [
      "[[1, 1, 1, 1, 1], [0, 0, 0, 0, 0], [1, 1, 1, 1, 1], [0, 0, 0, 0, 0], [0, 0, 0, 0, 0]]\n"
     ]
    }
   ],
   "source": [
    "# 11. Write a program that starts with an 5 × 5 list of zeroes and randomly changes exactly ten of\n",
    "# those zeroes to ones.\n",
    "\n",
    "# d=[[0,0],[0,0]]\n",
    "# d[0][0]=1\n",
    "# d[0][1]=1\n",
    "\n",
    "data =[[0]*5 for i in range(5)]\n",
    "# print(data)\n",
    "from random import sample,shuffle\n",
    "i=0\n",
    "while i<2:\n",
    "    for j in range(len(data[i])):\n",
    "        data[i][j]=1\n",
    "    i +=1\n",
    "shuffle(data)\n",
    "print(data)"
   ]
  },
  {
   "cell_type": "code",
   "execution_count": null,
   "id": "3137028e",
   "metadata": {},
   "outputs": [],
   "source": [
    "# 2. Write a program in which you have a list that contains seven integers that can be 0 or 1. Find\n",
    "# the first nonzero entry in the list and change it to a 1. If there are no nonzero entries, print a\n",
    "# message saying so.\n",
    "\n"
   ]
  },
  {
   "cell_type": "code",
   "execution_count": 54,
   "id": "936f553e",
   "metadata": {},
   "outputs": [],
   "source": [
    "###### N/B: you can enter a list in input directly\n",
    "# data =eval(input(\"enter list:\"))\n",
    "\n",
    "# enter: [1,2,3,4,5] or\n",
    "# enter: ['mike','tom','1,2,50,49]\n",
    "\n",
    "# the result is a list"
   ]
  },
  {
   "cell_type": "code",
   "execution_count": 3,
   "id": "8b7ebe6e",
   "metadata": {},
   "outputs": [],
   "source": [
    "d = [1, 2, 3, 4, 7, 0]\n",
    "list(reversed(d))"
   ]
  },
  {
   "cell_type": "code",
   "execution_count": 4,
   "id": "c7d21993",
   "metadata": {},
   "outputs": [
    {
     "data": {
      "text/plain": [
       "[0, 7, 4, 3, 2, 1]"
      ]
     },
     "execution_count": 4,
     "metadata": {},
     "output_type": "execute_result"
    }
   ],
   "source": [
    "\n",
    "  "
   ]
  },
  {
   "cell_type": "code",
   "execution_count": null,
   "id": "4453b48e",
   "metadata": {},
   "outputs": [],
   "source": [
    "print(sorted(d))"
   ]
  },
  {
   "cell_type": "code",
   "execution_count": null,
   "id": "5ffe7cb8",
   "metadata": {},
   "outputs": [],
   "source": [
    "d"
   ]
  },
  {
   "cell_type": "code",
   "execution_count": 34,
   "id": "2faca0d7",
   "metadata": {},
   "outputs": [
    {
     "name": "stdout",
     "output_type": "stream",
     "text": [
      "['star', 'Select']\n"
     ]
    }
   ],
   "source": [
    "cols =['star','Select','change','brain']\n",
    "clue=[]\n",
    "for col in cols:\n",
    "    if col.startswith('s') or col.startswith('S'):\n",
    "        clue.append(col)       \n",
    "print(clue)\n",
    "    "
   ]
  },
  {
   "cell_type": "code",
   "execution_count": 35,
   "id": "e6d5d57e",
   "metadata": {},
   "outputs": [],
   "source": [
    "from random import choice,shuffle,sample"
   ]
  },
  {
   "cell_type": "code",
   "execution_count": 44,
   "id": "9301ff20",
   "metadata": {},
   "outputs": [],
   "source": [
    "cols =['star','gamer','baba','irine']"
   ]
  },
  {
   "cell_type": "code",
   "execution_count": 45,
   "id": "636352be",
   "metadata": {},
   "outputs": [],
   "source": [
    "c=cols.copy()"
   ]
  },
  {
   "cell_type": "code",
   "execution_count": 46,
   "id": "48d6effb",
   "metadata": {},
   "outputs": [
    {
     "data": {
      "text/plain": [
       "['irine', 'baba', 'star', 'gamer']"
      ]
     },
     "execution_count": 46,
     "metadata": {},
     "output_type": "execute_result"
    }
   ],
   "source": [
    "shuffle(c)\n",
    "c"
   ]
  },
  {
   "cell_type": "code",
   "execution_count": 47,
   "id": "07ea4f08",
   "metadata": {},
   "outputs": [
    {
     "data": {
      "text/plain": [
       "'gamer'"
      ]
     },
     "execution_count": 47,
     "metadata": {},
     "output_type": "execute_result"
    }
   ],
   "source": [
    "choice(c)"
   ]
  },
  {
   "cell_type": "code",
   "execution_count": 48,
   "id": "508b2643",
   "metadata": {},
   "outputs": [
    {
     "name": "stdout",
     "output_type": "stream",
     "text": [
      "star its your turn to play\n",
      "irine its your turn to play\n",
      "baba its your turn to play\n",
      "gamer its your turn to play\n"
     ]
    }
   ],
   "source": [
    "shuffle(c)\n",
    "for p in c:\n",
    "    print(p, 'its your turn to play')\n",
    "    "
   ]
  },
  {
   "cell_type": "code",
   "execution_count": 49,
   "id": "654f2b54",
   "metadata": {},
   "outputs": [
    {
     "data": {
      "text/plain": [
       "['irine', 'star']"
      ]
     },
     "execution_count": 49,
     "metadata": {},
     "output_type": "execute_result"
    }
   ],
   "source": [
    "sample(c,2)"
   ]
  },
  {
   "cell_type": "code",
   "execution_count": 18,
   "id": "f6a3bdd2",
   "metadata": {},
   "outputs": [],
   "source": [
    "# s='skfo()[]{},fkgkdfrtdlgpa'\n",
    "# for i in range(1000):\n",
    "#     print(choice(s),end='')"
   ]
  },
  {
   "cell_type": "code",
   "execution_count": 2,
   "id": "fcabf358",
   "metadata": {},
   "outputs": [
    {
     "name": "stdout",
     "output_type": "stream",
     "text": [
      "['tessi', 'man']\n",
      "['tom', 'nom']\n",
      "['game', 'sasha']\n",
      "['lena', 'gold']\n",
      "[['tessi', 'man'], ['tom', 'nom'], ['game', 'sasha'], ['lena', 'gold']]\n"
     ]
    }
   ],
   "source": [
    "# Dividing a group(list) into teams of twos\n",
    "\n",
    "from random import shuffle\n",
    "names = ['nom','man','game','tom','lena','sasha','tessi','gold']\n",
    "shuffle(names)\n",
    "teams=[]\n",
    "for i in range(0,len(names),2):\n",
    "    print([names[i],names[i+1]])\n",
    "    teams.append([names[i],names[i+1]])\n",
    "print(teams)\n",
    "    "
   ]
  },
  {
   "cell_type": "code",
   "execution_count": 4,
   "id": "fcadf3cc",
   "metadata": {},
   "outputs": [
    {
     "name": "stdout",
     "output_type": "stream",
     "text": [
      "['Hi!', 'This,', 'is', 'a', 'test.']\n"
     ]
    }
   ],
   "source": [
    "k = 'Hi! This, is a test.'\n",
    "print(k.split())"
   ]
  },
  {
   "cell_type": "code",
   "execution_count": 6,
   "id": "cc41313e",
   "metadata": {},
   "outputs": [
    {
     "data": {
      "text/plain": [
       "['100', '101', '331', '46', '1=019']"
      ]
     },
     "execution_count": 6,
     "metadata": {},
     "output_type": "execute_result"
    }
   ],
   "source": [
    "s='100-101-331-46-1=019'\n",
    "s.split('-')"
   ]
  },
  {
   "cell_type": "code",
   "execution_count": 7,
   "id": "294100be",
   "metadata": {},
   "outputs": [
    {
     "name": "stdout",
     "output_type": "stream",
     "text": [
      "Hi this is a test\n",
      "HI THIS IS A TEST\n",
      "['Hi', 'this', 'is', 'a', 'test']\n"
     ]
    }
   ],
   "source": [
    "k='Hi! this, is a test.'\n",
    "from string import punctuation\n",
    "for c in punctuation:\n",
    "    k=k.replace(c, '')\n",
    "print(k)\n",
    "s=k.upper()\n",
    "l=k.split()\n",
    "print(s)\n",
    "print(l)"
   ]
  },
  {
   "cell_type": "code",
   "execution_count": 27,
   "id": "abdffa82",
   "metadata": {},
   "outputs": [
    {
     "name": "stdout",
     "output_type": "stream",
     "text": [
      "ABCD\n",
      "A B C D\n",
      "A--B--C--D\n",
      "A***B***C***D\n"
     ]
    }
   ],
   "source": [
    "l=['A','B','C','D']\n",
    "print(''.join(l))\n",
    "print(' '.join(l))\n",
    "print('--'.join(l))\n",
    "print('***'.join(l))"
   ]
  },
  {
   "cell_type": "code",
   "execution_count": 31,
   "id": "f20b086f",
   "metadata": {},
   "outputs": [
    {
     "data": {
      "text/plain": [
       "['27', '05', '2022']"
      ]
     },
     "execution_count": 31,
     "metadata": {},
     "output_type": "execute_result"
    }
   ],
   "source": [
    "date='27/05/2022'\n",
    "date_l=date.split('/')\n",
    "date_l"
   ]
  },
  {
   "cell_type": "code",
   "execution_count": 33,
   "id": "ad11a62c",
   "metadata": {},
   "outputs": [
    {
     "data": {
      "text/plain": [
       "'27-05-2022'"
      ]
     },
     "execution_count": 33,
     "metadata": {},
     "output_type": "execute_result"
    }
   ],
   "source": [
    "new_date='-'.join(date_l)\n",
    "new_date"
   ]
  },
  {
   "cell_type": "code",
   "execution_count": 14,
   "id": "0c7de385",
   "metadata": {},
   "outputs": [
    {
     "name": "stdout",
     "output_type": "stream",
     "text": [
      "enter a word: gear\n",
      "['a', 'r', 'g', 'e']\n",
      "arge\n"
     ]
    }
   ],
   "source": [
    "# ANAGRAM- A WORD THAT CAN APPEAR IN 2 OR MORE ORDER FORMS. USEING THE SAME LETTERS BUT DIFFERENT ORDERS\n",
    "word=input('enter a word: ')\n",
    "wordy=list(word)\n",
    "shuffle(wordy)\n",
    "anagram=\"\".join(wordy)\n",
    "print(wordy)\n",
    "print(anagram)"
   ]
  },
  {
   "cell_type": "code",
   "execution_count": 46,
   "id": "aa89b520",
   "metadata": {},
   "outputs": [
    {
     "data": {
      "text/plain": [
       "[82, 84, 86, 88, 90, 92, 94, 96, 98]"
      ]
     },
     "execution_count": 46,
     "metadata": {},
     "output_type": "execute_result"
    }
   ],
   "source": [
    "# LIST COMPREHENSION\n",
    "\n",
    "num=[i for i in range(100) if i>80 and i <100 and i%2==0]\n",
    "num"
   ]
  },
  {
   "cell_type": "code",
   "execution_count": 48,
   "id": "dfb8731c",
   "metadata": {},
   "outputs": [
    {
     "data": {
      "text/plain": [
       "[1, 4, 9, 16, 25, 36, 49, 64, 81]"
      ]
     },
     "execution_count": 48,
     "metadata": {},
     "output_type": "execute_result"
    }
   ],
   "source": [
    "num=[i**2 for i in range(1,10)]\n",
    "num"
   ]
  },
  {
   "cell_type": "code",
   "execution_count": null,
   "id": "7907a6f9",
   "metadata": {},
   "outputs": [],
   "source": [
    "M = ['one', 'two', 'three', 'four', 'five', 'six']\n"
   ]
  },
  {
   "cell_type": "code",
   "execution_count": 14,
   "id": "f7076925",
   "metadata": {},
   "outputs": [
    {
     "name": "stdout",
     "output_type": "stream",
     "text": [
      "[[0, 0], [0, 1], [0, 2], [0, 3], [0, 4], [1, 0], [1, 1], [1, 2], [1, 3], [1, 4], [2, 0], [2, 1], [2, 2], [2, 3], [2, 4], [3, 0], [3, 1], [3, 2], [3, 3], [3, 4], [4, 0], [4, 1], [4, 2], [4, 3], [4, 4]]\n"
     ]
    }
   ],
   "source": [
    "l=[1,14,5,9,12]\n",
    "la = [[i,j] for i in range(len(l)) for j in range(len(l))]\n",
    "print(la)"
   ]
  },
  {
   "cell_type": "code",
   "execution_count": 19,
   "id": "51e6a3e7",
   "metadata": {},
   "outputs": [
    {
     "name": "stdout",
     "output_type": "stream",
     "text": [
      "[31, 78, 51, 99, 81, 25, 45, 95, 82, 10, 100, 3, 55, 67, 21, 77, 8, 18, 98, 90, 71, 89, 72, 23, 95, 70, 76, 90, 51, 16, 48, 57, 88, 100, 37, 48, 45, 40, 45, 17, 33, 46, 1, 70, 1, 82, 57, 83, 51, 95]\n"
     ]
    }
   ],
   "source": [
    "from random import randint\n",
    "ran_num =[randint(1,100) for i in range(50)]\n",
    "print(ran_num)"
   ]
  },
  {
   "cell_type": "code",
   "execution_count": 20,
   "id": "af85bd90",
   "metadata": {},
   "outputs": [
    {
     "name": "stdout",
     "output_type": "stream",
     "text": [
      "[1, 196, 25, 81, 144]\n"
     ]
    }
   ],
   "source": [
    "l =[i**2 for i in l]\n",
    "print(l)"
   ]
  },
  {
   "cell_type": "code",
   "execution_count": 25,
   "id": "11690a37",
   "metadata": {},
   "outputs": [
    {
     "name": "stdout",
     "output_type": "stream",
     "text": [
      "[196, 25, 81, 144]\n"
     ]
    },
    {
     "data": {
      "text/plain": [
       "4"
      ]
     },
     "execution_count": 25,
     "metadata": {},
     "output_type": "execute_result"
    }
   ],
   "source": [
    "# list numbers greater than 10 in l and count how many of them\n",
    "list1=[i for i in l if i>10]\n",
    "print(list1)\n",
    "\n",
    "len([i for i in l if i>10])\n",
    "# print(len(list1))"
   ]
  },
  {
   "cell_type": "code",
   "execution_count": 31,
   "id": "a5672e8e",
   "metadata": {},
   "outputs": [
    {
     "name": "stdout",
     "output_type": "stream",
     "text": [
      "[1, 0, 0, 0, 0, 0, 0, 0, 0, 0, 0, 0, 0, 0, 0, 0, 0, 0, 0, 0, 0, 0, 0, 0, 1, 0, 0, 0, 0, 0, 0, 0, 0, 0, 0, 0, 0, 0, 0, 0, 0, 0, 0, 0, 0, 0, 0, 0, 0, 0, 0, 0, 0, 0, 0, 0, 0, 0, 0, 0, 0, 0, 0, 0, 0, 0, 0, 0, 0, 0, 0, 0, 0, 0, 0, 0, 0, 0, 0, 0, 1, 0, 0, 0, 0, 0, 0, 0, 0, 0, 0, 0, 0, 0, 0, 0, 0, 0, 0, 0]\n"
     ]
    }
   ],
   "source": [
    "freq = [l.count(i) for i in range(1,101)]\n",
    "print(freq)"
   ]
  },
  {
   "cell_type": "code",
   "execution_count": 35,
   "id": "f30a550c",
   "metadata": {},
   "outputs": [
    {
     "name": "stdout",
     "output_type": "stream",
     "text": [
      "['p', 'd', 'i', 'r', 'o', 'x', 'f', 'q', 'v', 'g', 'p', 'a', 'a', 'c', 'a', 'h', 'r', 'w', 'y', 'g', 'b', 'q', 'e', 'c', 's', 'n', 'g', 'x', 'r', 's', 'r', 'z', 'm', 'q', 'v', 'd', 'g', 'd', 'w', 'o', 'r', 'n', 'z', 'j', 'v', 'w', 'v', 'k', 'x', 'g', 'j', 'm', 't', 't', 'z', 'c', 'u', 'v', 'm', 'r', 'a', 'z', 'a', 'h', 'c', 'b', 'h', 'i', 'd', 'o', 'p', 'n', 'f', 'x', 'i', 't', 'n', 'x', 'd', 'm', 'f', 's', 'x', 'k', 'z', 'c', 'v', 'l', 'g', 'q', 'b', 'o', 'j', 'q', 'c', 'j', 'f', 'n', 'l', 'r', 'x', 'r', 'g', 'f', 'j', 'b', 't', 'x', 'o', 'h', 'j', 'c', 'n', 'r', 'j', 'k', 'n', 'a', 's', 'w', 'b', 'u', 'i', 'y', 'j', 'd', 'f', 'o', 'o', 'y', 'o', 'r', 'c', 'k', 'n', 'd', 't', 'm', 'o', 'i', 'z', 'e', 'x', 'm', 'm', 'y', 'a', 'c', 'x', 'j', 'g', 'l', 'o', 'h', 'x', 'k', 'x', 'z', 'r', 'e', 'i', 'l', 'c', 'u', 'f', 'h', 'v', 'h', 'l', 'x', 'y', 'u', 'w', 'f', 'u', 'k', 'p', 'v', 'v', 'b', 'u', 'g', 'w', 'z', 'c', 'v', 'i', 'f', 'h', 'a', 'y', 'i', 'd', 'p', 'c', 'o', 't', 'o', 'n', 'a', 'd', 'r', 's', 'u', 'p', 'd', 'v', 'a', 'e', 'z', 'r', 'u', 'l', 'z', 'q', 's', 'o', 'u', 'x', 'g', 'd', 'i', 'u', 'q', 'c', 'n', 'w', 'n', 'q', 'o', 'q', 'q', 'w', 'd', 'a', 'c', 's', 'j', 'm', 'v', 'v', 'n', 'l', 'f', 'j', 'c', 'k', 'a', 'h', 'k', 'p', 'c', 'j', 'w', 'l', 'x', 'm', 'k', 'x', 'p', 'i', 'e', 'm', 'b', 'a', 't', 'f', 'h', 'i', 'e', 'b', 'v', 'z', 'r', 'z', 'b', 'p', 'd', 'p', 'b', 'z', 'j', 'h', 'e', 'v', 'c', 'h', 'o', 'f', 'b', 'c', 'e', 'y', 'j', 'y', 'z', 'g', 'o', 'b', 'u', 'q', 'm', 'o', 'u', 'x', 'h', 'b', 'y', 'w', 'v', 'p', 'k', 'u', 'k', 'u', 'c', 'e', 'r', 'k', 'h', 'r', 'w', 'w', 'i', 'f', 'q', 's', 'e', 'b', 'm', 'l', 'k', 'd', 'p', 'i', 'r', 'z', 'q', 'v', 'u', 's', 'q', 'n', 'p', 'r', 'o', 'w', 'g', 'l', 's', 'c', 'x', 'i', 'x', 'v', 'a', 'z', 'h', 'c', 'o', 'n', 'r', 'c', 'y', 'x', 'h', 'x', 'h', 'h', 'b', 'g', 's', 'i', 'a', 's', 'd', 'b', 'j', 'u', 'l', 'b', 'f', 's', 'd', 'l', 'u', 'd', 'y', 'y', 'a', 'y', 'x', 'q', 'r', 'p', 'm', 'o', 'p', 'n', 'n', 'h', 'c', 'k', 'g', 'x', 'b', 'd', 'n', 'l', 'f', 'u', 'n', 'j', 'a', 't', 'd', 'u', 'd', 'y', 'l', 'w', 'a', 'c', 't', 's', 'a', 'w', 'o', 's', 't', 'w', 'x', 'x', 'j', 'f', 'o', 'd', 'x', 'b', 'm', 'm', 't', 'g', 'b', 'i', 'w', 'm', 'o', 's', 't', 'b', 'l', 'n', 'r', 'l', 'x', 'a', 't', 'i', 'l', 'b', 'd', 'q', 'z', 'w', 'r', 'm', 'd', 'f', 's', 's', 'b', 'o', 'u', 'c', 't', 'a', 'n', 'c', 'k', 'w', 'o', 'j', 'z', 'i', 'o', 'e', 'g', 'j', 'x', 'g', 'v', 'z', 'j', 'u', 'v', 'c', 'm', 'w', 'n', 'p', 'o', 'k', 'k', 'w', 't', 's', 'a', 'u', 'g', 'b', 'd', 'g', 's', 'n', 't', 'w', 'm', 'f', 'q', 'i', 't', 'x', 's', 'k', 'e', 'g', 'x', 's', 'g', 'l', 'f', 'v', 'v', 'u', 'c', 'l', 'i', 'v', 'e', 'g', 'i', 'i', 'm', 'n', 'j', 'v', 'd', 'o', 'q', 'q', 'k', 'a', 't', 'n', 'z', 'm', 'v', 'h', 'b', 'v', 's', 'e', 'x', 'g', 'h', 'w', 'b', 'x', 'h', 'a', 'c', 'q', 'a', 'z', 'b', 'r', 'l', 'f', 't', 'i', 's', 'a', 'k', 'q', 's', 's', 'i', 'w', 'w', 'c', 'm', 'o', 'm', 's', 'z', 'a', 'q', 'l', 'c', 'w', 'w', 'f', 'm', 'm', 'j', 'k', 'd', 'k', 'i', 'd', 'v', 'o', 'f', 'j', 't', 'c', 'y', 'n', 'w', 'v', 'h', 'b', 'h', 'w', 'a', 'u', 'f', 't', 'n', 'o', 'i', 'g', 'h', 's', 's', 'w', 'k', 'k', 'm', 'p', 'i', 'b', 'z', 'l', 'y', 'g', 'h', 'y', 'x', 'g', 'r', 'p', 'm', 'a', 's', 'h', 'r', 'z', 'd', 'k', 'f', 'q', 'y', 'a', 'y', 'x', 'y', 'c', 'o', 'p', 'a', 'j', 'm', 'v', 'h', 'w', 'q', 'q', 'h', 'u', 'q', 'h', 'o', 'q', 'c', 'o', 't', 'j', 'c', 'j', 'j', 'v', 'h', 'e', 'g', 'g', 's', 'h', 'x', 'j', 'l', 'q', 'b', 'k', 'q', 'y', 'e', 'k', 'k', 'a', 'b', 'r', 'a', 't', 'k', 'k', 'e', 'n', 'z', 'p', 'n', 'j', 'x', 'b', 'd', 'o', 'a', 'y', 'f', 'j', 'b', 'x', 'k', 'o', 'c', 'a', 't', 'h', 'c', 'b', 'i', 'l', 'd', 'l', 'k', 'u', 'a', 'l', 'd', 'c', 'y', 'p', 'u', 'x', 'w', 's', 'u', 'k', 'r', 'r', 'b', 'k', 'm', 'b', 'k', 'q', 'v', 'r', 'v', 'j', 'a', 'z', 'd', 'g', 'f', 'b', 'g', 'f', 'v', 'd', 'v', 'h', 'i', 'o', 'h', 'p', 'g', 'd', 'b', 'x', 'a', 'c', 'z', 'e', 'b', 's', 'b', 'd', 't', 'r', 'i', 'd', 'g', 'm', 'l', 's', 'p', 'v', 'o', 'c', 'u', 't', 'x', 'j', 'v', 's', 'k', 'q', 'w', 'e', 'b', 'd', 'i', 'x', 'j', 'a', 'b', 'w', 'a', 'j', 'y', 'z', 'h', 'h', 'p', 'd', 'r', 'y', 'x', 'g', 'e', 'y', 'v', 'z', 'k', 'h', 's', 'n', 'w', 'm', 'i', 'o', 'd', 'l', 'r', 'i', 'o', 'z', 'u', 'l', 'f', 'o', 'h', 'h', 't', 'f', 'h', 'x', 'o', 'l', 'c', 'c', 'q', 'y', 'i', 'k', 'a', 'r', 'h', 'z', 'r', 'x', 'd', 't', 'x', 'd', 'z', 'g', 'a', 'm', 'v', 'v', 'j', 'f', 'w', 'c', 'l', 'k', 'k', 'g', 'z', 'n', 'w', 'a', 'u', 'l', 'q', 't', 'a', 'h', 'p', 'c', 'p', 'l', 'n', 'j', 'm', 'n', 'n', 't', 'l', 'y', 't', 'f', 't', 's', 'x', 'r', 'y', 'q', 'v', 'o', 'd', 'n', 'k', 's', 'g', 'w', 'd', 'l', 'l', 'w', 'b', 'c', 'b', 'r', 'h', 'o', 'm', 'g', 'p', 'j', 'y', 'i', 'o', 'e', 'p', 'z', 'n', 'i', 'h', 'b', 'm', 'b', 'd', 'w', 'b', 'd', 'i', 'p', 'j', 'v', 'l', 'i', 'c', 'k', 'n', 'r', 'b', 't', 'b', 'f', 'b', 'g', 'q', 'i', 'o', 'p', 'h', 'k', 'o', 'k', 'z', 'z', 'd', 'o', 'v', 'w', 'o']\n"
     ]
    }
   ],
   "source": [
    "# The join method can often be used with list comprehensions to quickly build\n",
    "# up a string. Here we create a string that contains a random assortment of 1000 letters.\n",
    "\n",
    "from random import choice\n",
    "alphabet='abcdefghijklmnopqrstuvwxyz'\n",
    "\n",
    "s=[''.join(choice(alphabet)) for i in range(1000)]\n",
    "print(s)"
   ]
  },
  {
   "cell_type": "code",
   "execution_count": 38,
   "id": "73c3016f",
   "metadata": {},
   "outputs": [
    {
     "name": "stdout",
     "output_type": "stream",
     "text": [
      "[[2, 1], [4, 3], [6, 5]]\n"
     ]
    }
   ],
   "source": [
    "#sawbbing the positions of x and y\n",
    "L = [[1,2], [3,4], [5,6]]\n",
    "M=[[y,x] for x,y in L]\n",
    "print(M)"
   ]
  },
  {
   "cell_type": "code",
   "execution_count": 23,
   "id": "8dc669b1",
   "metadata": {},
   "outputs": [],
   "source": [
    "L = [[1,2,3],\n",
    "[4,5,6],\n",
    "[7,8,9]]"
   ]
  },
  {
   "cell_type": "code",
   "execution_count": 24,
   "id": "2a3fe822",
   "metadata": {},
   "outputs": [
    {
     "name": "stdout",
     "output_type": "stream",
     "text": [
      "123456789"
     ]
    }
   ],
   "source": [
    "for r in range(3):\n",
    "    for c in range(3):\n",
    "        print(L[r][c],end='')"
   ]
  },
  {
   "cell_type": "code",
   "execution_count": 27,
   "id": "21f4586c",
   "metadata": {},
   "outputs": [
    {
     "data": {
      "text/plain": [
       "[1, 2, 3, 4, 5, 6, 7, 8, 9]"
      ]
     },
     "execution_count": 27,
     "metadata": {},
     "output_type": "execute_result"
    }
   ],
   "source": [
    "lis=[L[r][c] for r in range(3) for c in range(3)]\n",
    "lis"
   ]
  },
  {
   "cell_type": "code",
   "execution_count": 48,
   "id": "48af1448",
   "metadata": {},
   "outputs": [
    {
     "name": "stdout",
     "output_type": "stream",
     "text": [
      "[[1, 2, 3], [4, 5, 6], [7, 8, 9]]\n"
     ]
    }
   ],
   "source": [
    "from pprint import pprint\n",
    "pprint(L)"
   ]
  },
  {
   "cell_type": "code",
   "execution_count": 38,
   "id": "f37e7313",
   "metadata": {},
   "outputs": [],
   "source": [
    "L = [[1,2,3],\n",
    "[4,5,6],\n",
    "[7,8,9],\n",
    "[4,3,8]]"
   ]
  },
  {
   "cell_type": "code",
   "execution_count": 39,
   "id": "348a3273",
   "metadata": {},
   "outputs": [
    {
     "data": {
      "text/plain": [
       "8"
      ]
     },
     "execution_count": 39,
     "metadata": {},
     "output_type": "execute_result"
    }
   ],
   "source": [
    "L[3][2]"
   ]
  },
  {
   "cell_type": "code",
   "execution_count": 40,
   "id": "9765b2b6",
   "metadata": {},
   "outputs": [
    {
     "name": "stdout",
     "output_type": "stream",
     "text": [
      "4\n"
     ]
    }
   ],
   "source": [
    "count=0\n",
    "for r in range(3):\n",
    "    for c in range(3):\n",
    "        if L[r][c] %2==0:\n",
    "            count += 1\n",
    "print(count)"
   ]
  },
  {
   "cell_type": "code",
   "execution_count": 41,
   "id": "345c96d8",
   "metadata": {},
   "outputs": [
    {
     "name": "stdout",
     "output_type": "stream",
     "text": [
      "4\n",
      "4\n",
      "[1, 1, 1, 1]\n"
     ]
    }
   ],
   "source": [
    "count = [L[r][c] for r in range(3) for c in range(3) if L[r][c] %2==0]\n",
    "count2 =  [1 for r in range(3) for c in range(3) if L[r][c] %2==0]\n",
    "print(len(count))\n",
    "print(sum(count2))\n",
    "print(count2)"
   ]
  },
  {
   "cell_type": "code",
   "execution_count": 42,
   "id": "da320823",
   "metadata": {},
   "outputs": [
    {
     "data": {
      "text/plain": [
       "[0, 0, 0, 0, 0, 0, 0, 0, 0, 0, 0, 0, 0, 0, 0, 0, 0, 0, 0, 0]"
      ]
     },
     "execution_count": 42,
     "metadata": {},
     "output_type": "execute_result"
    }
   ],
   "source": [
    "sat=[0*10 for i in range(20)]\n",
    "sat"
   ]
  },
  {
   "cell_type": "code",
   "execution_count": 43,
   "id": "426df85e",
   "metadata": {},
   "outputs": [
    {
     "name": "stdout",
     "output_type": "stream",
     "text": [
      "[[0, 0, 0, 0, 0, 0, 0, 0, 0, 0], [0, 0, 0, 0, 0, 0, 0, 0, 0, 0], [0, 0, 0, 0, 0, 0, 0, 0, 0, 0], [0, 0, 0, 0, 0, 0, 0, 0, 0, 0], [0, 0, 0, 0, 0, 0, 0, 0, 0, 0], [0, 0, 0, 0, 0, 0, 0, 0, 0, 0], [0, 0, 0, 0, 0, 0, 0, 0, 0, 0], [0, 0, 0, 0, 0, 0, 0, 0, 0, 0], [0, 0, 0, 0, 0, 0, 0, 0, 0, 0], [0, 0, 0, 0, 0, 0, 0, 0, 0, 0], [0, 0, 0, 0, 0, 0, 0, 0, 0, 0], [0, 0, 0, 0, 0, 0, 0, 0, 0, 0], [0, 0, 0, 0, 0, 0, 0, 0, 0, 0], [0, 0, 0, 0, 0, 0, 0, 0, 0, 0], [0, 0, 0, 0, 0, 0, 0, 0, 0, 0], [0, 0, 0, 0, 0, 0, 0, 0, 0, 0], [0, 0, 0, 0, 0, 0, 0, 0, 0, 0], [0, 0, 0, 0, 0, 0, 0, 0, 0, 0], [0, 0, 0, 0, 0, 0, 0, 0, 0, 0], [0, 0, 0, 0, 0, 0, 0, 0, 0, 0]]\n"
     ]
    }
   ],
   "source": [
    "mat = [[0]*10 for i in range(20)]\n",
    "print(mat)"
   ]
  },
  {
   "cell_type": "code",
   "execution_count": 44,
   "id": "932193ba",
   "metadata": {},
   "outputs": [],
   "source": [
    "de =[[4,5,6],\n",
    "[7,8,9],\n",
    "[4,3,8]]"
   ]
  },
  {
   "cell_type": "code",
   "execution_count": 46,
   "id": "2fb79645",
   "metadata": {},
   "outputs": [
    {
     "data": {
      "text/plain": [
       "[8, 8, 8]"
      ]
     },
     "execution_count": 46,
     "metadata": {},
     "output_type": "execute_result"
    }
   ],
   "source": [
    "sat =[de[r][c] for i in range(len(de))]\n",
    "sat"
   ]
  },
  {
   "cell_type": "code",
   "execution_count": 48,
   "id": "8e493b1d",
   "metadata": {},
   "outputs": [
    {
     "name": "stdout",
     "output_type": "stream",
     "text": [
      "[4, 5, 6, 7, 8, 9, 4, 3, 8]\n"
     ]
    }
   ],
   "source": [
    "df=[k for i in de for k in i]\n",
    "print(df)"
   ]
  },
  {
   "cell_type": "code",
   "execution_count": 5,
   "id": "4672a474",
   "metadata": {},
   "outputs": [
    {
     "data": {
      "text/plain": [
       "[[3, 3, 3, 3, 3],\n",
       " [3, 3, 3, 3, 3],\n",
       " [3, 3, 3, 3, 3],\n",
       " [3, 3, 3, 3, 3],\n",
       " [3, 3, 3, 3, 3]]"
      ]
     },
     "execution_count": 5,
     "metadata": {},
     "output_type": "execute_result"
    }
   ],
   "source": [
    "matrics=[[3]*5 for i in range(5) for j in range(1)]\n",
    "matrics"
   ]
  },
  {
   "cell_type": "code",
   "execution_count": 4,
   "id": "18ec41cc",
   "metadata": {},
   "outputs": [
    {
     "name": "stdout",
     "output_type": "stream",
     "text": [
      "Enter num (-1000 to quit): 0\n",
      "in fah:  32.0\n",
      "Enter num (-1000 to quit): 60\n",
      "in fah:  140.0\n",
      "Enter num (-1000 to quit): 100\n",
      "in fah:  212.0\n",
      "Enter num (-1000 to quit): -1000\n",
      "bye\n"
     ]
    }
   ],
   "source": [
    "temp=0\n",
    "while temp !=-1000:\n",
    "    temp =eval(input('Enter num (-1000 to quit): '))\n",
    "    if temp !=-1000:\n",
    "        print('in fah: ', 9/5*temp+32) \n",
    "    else:\n",
    "        print('bye')"
   ]
  },
  {
   "cell_type": "code",
   "execution_count": 28,
   "id": "371a1c21",
   "metadata": {},
   "outputs": [
    {
     "name": "stdout",
     "output_type": "stream",
     "text": [
      "guess secret_num: 9\n",
      "you guess right!\n"
     ]
    }
   ],
   "source": [
    "# player guess game using 'while loop'\n",
    "\n",
    "from random import randint\n",
    "secret_num=randint(1,10)\n",
    "guess=eval(input('guess secret_num: '))\n",
    "if guess==secret_num:\n",
    "    print('you guess right!')\n",
    "else:\n",
    "    print('Not correct, try again')"
   ]
  },
  {
   "cell_type": "code",
   "execution_count": 23,
   "id": "bc6b1065",
   "metadata": {},
   "outputs": [
    {
     "name": "stdout",
     "output_type": "stream",
     "text": [
      "Guess the secret number: 9\n",
      "Guess the secret number: 8\n",
      "Guess the secret number: 7\n",
      "Guess the secret number: 6\n",
      "Guess the secret number: 5\n",
      "Guess the secret number: 4\n",
      "Guess the secret number: 3\n",
      "Guess the secret number: 2\n",
      "finally you got it\n"
     ]
    }
   ],
   "source": [
    "# player guess game using 'while loop'\n",
    "from random import randint\n",
    "secret_num=randint(1,10)\n",
    "guess =0\n",
    "while guess != secret_num:\n",
    "    guess = eval(input('Guess the secret number: '))\n",
    "print('finally you got it')"
   ]
  },
  {
   "cell_type": "code",
   "execution_count": 2,
   "id": "12ca07ed",
   "metadata": {},
   "outputs": [
    {
     "name": "stdout",
     "output_type": "stream",
     "text": [
      "0123456789"
     ]
    }
   ],
   "source": [
    "# for i in range(10):\n",
    "#     print(i ,end='')\n",
    "\n",
    "i=0\n",
    "while i < 10:\n",
    "    print(i,end='')\n",
    "    i=i+1\n",
    "    "
   ]
  },
  {
   "cell_type": "code",
   "execution_count": 5,
   "id": "53b3ab38",
   "metadata": {},
   "outputs": [
    {
     "name": "stdout",
     "output_type": "stream",
     "text": [
      "enter temp in celcius:-275\n",
      "noot possible, enter a valid temp7\n",
      "temp in fah:  44.6\n"
     ]
    }
   ],
   "source": [
    "temp =eval(input('enter temp in celcius: '))\n",
    "while temp <-273.15:\n",
    "    temp=eval(input('noot possible, enter a valid temp'))\n",
    "    print('temp in fah: ', 9/5*temp +32)"
   ]
  },
  {
   "cell_type": "code",
   "execution_count": 9,
   "id": "fc936777",
   "metadata": {},
   "outputs": [
    {
     "name": "stdout",
     "output_type": "stream",
     "text": [
      "024681012141618"
     ]
    }
   ],
   "source": [
    "i=0\n",
    "while i<20:\n",
    "    print(i,end='')\n",
    "    i=i+2\n",
    "# print('bye')"
   ]
  },
  {
   "cell_type": "code",
   "execution_count": 3,
   "id": "adb3a1f1",
   "metadata": {},
   "outputs": [
    {
     "name": "stdout",
     "output_type": "stream",
     "text": [
      "enter your guess (1-100): 3\n",
      "higher 4 guesses left.\n",
      "\n",
      "enter your guess (1-100): 2\n",
      "higher 3 guesses left.\n",
      "\n",
      "enter your guess (1-100): 6\n",
      "higher 2 guesses left.\n",
      "\n",
      "enter your guess (1-100): 10\n",
      "higher 1 guesses left.\n",
      "\n",
      "enter your guess (1-100): 90\n",
      "lower 0 guesses left. \n",
      "\n",
      "you lose, the correct guess is  61\n"
     ]
    }
   ],
   "source": [
    "from random import randint\n",
    "secret_num=randint(1,100)\n",
    "guess=0\n",
    "num_guesses=0\n",
    "while guess!= secret_num and num_guesses <=4:\n",
    "    guess=eval(input(\"enter your guess (1-100): \"))\n",
    "    num_guesses += 1\n",
    "    if guess < secret_num:\n",
    "        print('higher', 5-num_guesses, 'guesses left.\\n')\n",
    "    elif guess > secret_num:\n",
    "        print('lower', 5-num_guesses, 'guesses left. \\n')\n",
    "    else:\n",
    "        print(\"you got it!\")\n",
    "if num_guesses ==5 and guess !=secret_num:\n",
    "    print('you lose, the correct guess is ', secret_num )"
   ]
  },
  {
   "cell_type": "code",
   "execution_count": 4,
   "id": "8d2a1942",
   "metadata": {},
   "outputs": [],
   "source": [
    "## EXERCISE 9"
   ]
  },
  {
   "cell_type": "code",
   "execution_count": 16,
   "id": "a5d9aa13",
   "metadata": {},
   "outputs": [
    {
     "name": "stdout",
     "output_type": "stream",
     "text": [
      "1 2 3 4 5 6 7 8 9 10 11 12 13 14 15 16 17 18 19 20 21 22 23 24 25 26 27 28 29 30 31 32 33 34 35 36 37 38 39 40 41 42 43 44 45 46 47 48 49 50 "
     ]
    }
   ],
   "source": [
    "# # 1. The code below prints the numbers from 1 to 50. Rewrite the code using a while loop to\n",
    "# accomplish the same thing.\n",
    "# for i in range(1,51):\n",
    "#     print(i,end=' ')\n",
    "i=1\n",
    "while i < 51:\n",
    "    print(i, end=' ')\n",
    "    i=i+1\n"
   ]
  },
  {
   "cell_type": "code",
   "execution_count": null,
   "id": "f2e77f9e",
   "metadata": {},
   "outputs": [],
   "source": [
    "\n"
   ]
  },
  {
   "cell_type": "code",
   "execution_count": 30,
   "id": "1ba47eb4",
   "metadata": {},
   "outputs": [
    {
     "name": "stdout",
     "output_type": "stream",
     "text": [
      "the tip is $5.9\n"
     ]
    }
   ],
   "source": [
    "a=23.60*.25\n",
    "print(f'the tip is ${a}')"
   ]
  },
  {
   "cell_type": "code",
   "execution_count": 29,
   "id": "668b610e",
   "metadata": {},
   "outputs": [
    {
     "name": "stdout",
     "output_type": "stream",
     "text": [
      "the tip is $5.90\n"
     ]
    }
   ],
   "source": [
    "a=23.60*.25\n",
    "print('the tip is ${:.2f}'.format(a))"
   ]
  },
  {
   "cell_type": "code",
   "execution_count": 35,
   "id": "307ca5f6",
   "metadata": {},
   "outputs": [
    {
     "name": "stdout",
     "output_type": "stream",
     "text": [
      "the tip is $5.90, Total is $29.5, Discount is $1.18\n"
     ]
    }
   ],
   "source": [
    "bill =23.60\n",
    "tip=23.60*.25\n",
    "discount=(5/100)*bill\n",
    "print('the tip is ${:.2f}, Total is ${:.25}, Discount is ${:.2f}'.format(tip, bill+tip,discount))"
   ]
  },
  {
   "cell_type": "code",
   "execution_count": 9,
   "id": "f068fa45",
   "metadata": {},
   "outputs": [
    {
     "data": {
      "text/html": [
       "<div>\n",
       "<style scoped>\n",
       "    .dataframe tbody tr th:only-of-type {\n",
       "        vertical-align: middle;\n",
       "    }\n",
       "\n",
       "    .dataframe tbody tr th {\n",
       "        vertical-align: top;\n",
       "    }\n",
       "\n",
       "    .dataframe thead th {\n",
       "        text-align: right;\n",
       "    }\n",
       "</style>\n",
       "<table border=\"1\" class=\"dataframe\">\n",
       "  <thead>\n",
       "    <tr style=\"text-align: right;\">\n",
       "      <th></th>\n",
       "      <th>x1</th>\n",
       "      <th>x2</th>\n",
       "    </tr>\n",
       "  </thead>\n",
       "  <tbody>\n",
       "    <tr>\n",
       "      <th>0</th>\n",
       "      <td>-1.383423</td>\n",
       "      <td>0</td>\n",
       "    </tr>\n",
       "    <tr>\n",
       "      <th>1</th>\n",
       "      <td>0.491178</td>\n",
       "      <td>0</td>\n",
       "    </tr>\n",
       "    <tr>\n",
       "      <th>2</th>\n",
       "      <td>-0.528827</td>\n",
       "      <td>0</td>\n",
       "    </tr>\n",
       "    <tr>\n",
       "      <th>3</th>\n",
       "      <td>-0.359455</td>\n",
       "      <td>0</td>\n",
       "    </tr>\n",
       "    <tr>\n",
       "      <th>4</th>\n",
       "      <td>0.173340</td>\n",
       "      <td>0</td>\n",
       "    </tr>\n",
       "    <tr>\n",
       "      <th>...</th>\n",
       "      <td>...</td>\n",
       "      <td>...</td>\n",
       "    </tr>\n",
       "    <tr>\n",
       "      <th>195</th>\n",
       "      <td>-0.027111</td>\n",
       "      <td>1</td>\n",
       "    </tr>\n",
       "    <tr>\n",
       "      <th>196</th>\n",
       "      <td>-1.520284</td>\n",
       "      <td>1</td>\n",
       "    </tr>\n",
       "    <tr>\n",
       "      <th>197</th>\n",
       "      <td>-1.227090</td>\n",
       "      <td>1</td>\n",
       "    </tr>\n",
       "    <tr>\n",
       "      <th>198</th>\n",
       "      <td>-0.724484</td>\n",
       "      <td>1</td>\n",
       "    </tr>\n",
       "    <tr>\n",
       "      <th>199</th>\n",
       "      <td>-1.616109</td>\n",
       "      <td>1</td>\n",
       "    </tr>\n",
       "  </tbody>\n",
       "</table>\n",
       "<p>200 rows × 2 columns</p>\n",
       "</div>"
      ],
      "text/plain": [
       "           x1  x2\n",
       "0   -1.383423   0\n",
       "1    0.491178   0\n",
       "2   -0.528827   0\n",
       "3   -0.359455   0\n",
       "4    0.173340   0\n",
       "..        ...  ..\n",
       "195 -0.027111   1\n",
       "196 -1.520284   1\n",
       "197 -1.227090   1\n",
       "198 -0.724484   1\n",
       "199 -1.616109   1\n",
       "\n",
       "[200 rows x 2 columns]"
      ]
     },
     "execution_count": 9,
     "metadata": {},
     "output_type": "execute_result"
    }
   ],
   "source": [
    "import pandas as pd\n",
    "import matplotlib.pyplot as plt\n",
    "import numpy as np\n",
    "\n",
    "df=pd.read_csv(\"C:/Users/TOM/Desktop/R code/X.csv\")\n",
    "df"
   ]
  },
  {
   "cell_type": "markdown",
   "id": "d777c900",
   "metadata": {},
   "source": [
    "## Dictionaries"
   ]
  },
  {
   "cell_type": "code",
   "execution_count": 4,
   "id": "42ee0448",
   "metadata": {},
   "outputs": [
    {
     "name": "stdout",
     "output_type": "stream",
     "text": [
      "{'i': 1, 'am': 1, 'a': 2, 'great': 2, 'man': 2, 'of': 1}\n"
     ]
    }
   ],
   "source": [
    "# convert this sentence to a dictionary\n",
    "\n",
    "s='i am a great man of a great man'\n",
    "word=s.split(' ')\n",
    "freq ={}\n",
    "for w in word:\n",
    "    if w in freq:\n",
    "        freq[w] += 1\n",
    "    else:\n",
    "        freq[w]=1\n",
    "print(freq)"
   ]
  },
  {
   "cell_type": "code",
   "execution_count": 31,
   "id": "341228b4",
   "metadata": {},
   "outputs": [
    {
     "name": "stdout",
     "output_type": "stream",
     "text": [
      "{'super': 1, 'gekko': 1, 'boy': 2, 'is': 1, 'the': 2, 'of': 1, 'town': 1}\n",
      "['super', 'gekko', 'boy', 'is', 'the', 'of', 'town']\n",
      "[1, 1, 2, 1, 2, 1, 1]\n",
      "[('super', 1), ('gekko', 1), ('boy', 2), ('is', 1), ('the', 2), ('of', 1), ('town', 1)]\n",
      "super 1\n",
      "gekko 1\n",
      "is 1\n",
      "of 1\n",
      "town 1\n"
     ]
    }
   ],
   "source": [
    "k = 'super gekko boy is the boy of the town'\n",
    "data =dict()\n",
    "app =k.split(' ')\n",
    "for d in app:\n",
    "    if d in data:\n",
    "        data[d] += 1\n",
    "    else:\n",
    "        data[d]=1\n",
    "print(data)\n",
    "key=list(data.keys())\n",
    "value=list(data.values())\n",
    "item=list(data.items())\n",
    "print(key)\n",
    "print(value)\n",
    "print(item)\n",
    "\n",
    "# to get the highest value\n",
    "maxValue=min(value)\n",
    "for k,v in data.items():\n",
    "    if v==maxValue:\n",
    "        print(k,v)\n"
   ]
  },
  {
   "cell_type": "code",
   "execution_count": 25,
   "id": "e47986cf",
   "metadata": {},
   "outputs": [
    {
     "data": {
      "text/plain": [
       "['i', 'am', 'a', 'great', 'man', 'of']"
      ]
     },
     "execution_count": 25,
     "metadata": {},
     "output_type": "execute_result"
    }
   ],
   "source": [
    "key=list(freq.keys())\n",
    "key"
   ]
  },
  {
   "cell_type": "code",
   "execution_count": 26,
   "id": "fed457a7",
   "metadata": {},
   "outputs": [
    {
     "data": {
      "text/plain": [
       "[1, 1, 2, 2, 2, 1]"
      ]
     },
     "execution_count": 26,
     "metadata": {},
     "output_type": "execute_result"
    }
   ],
   "source": [
    "value=list(freq.values())\n",
    "value"
   ]
  },
  {
   "cell_type": "code",
   "execution_count": 27,
   "id": "058b6cc4",
   "metadata": {},
   "outputs": [
    {
     "data": {
      "text/plain": [
       "[('i', 1), ('am', 1), ('a', 2), ('great', 2), ('man', 2), ('of', 1)]"
      ]
     },
     "execution_count": 27,
     "metadata": {},
     "output_type": "execute_result"
    }
   ],
   "source": [
    "item=list(freq.items())\n",
    "item"
   ]
  },
  {
   "cell_type": "code",
   "execution_count": 29,
   "id": "b0737063",
   "metadata": {},
   "outputs": [
    {
     "name": "stdout",
     "output_type": "stream",
     "text": [
      "('a', 2)\n",
      "('great', 2)\n",
      "('man', 2)\n"
     ]
    }
   ],
   "source": [
    "maxValue=max(value)\n",
    "for key,value in freq.items():\n",
    "    if value==maxValue:\n",
    "        print((key,value))"
   ]
  },
  {
   "cell_type": "markdown",
   "id": "5797b29a",
   "metadata": {},
   "source": [
    "### to check for palindrome"
   ]
  },
  {
   "cell_type": "code",
   "execution_count": 2,
   "id": "5323de6e",
   "metadata": {},
   "outputs": [
    {
     "name": "stdout",
     "output_type": "stream",
     "text": [
      "Palindrome\n"
     ]
    }
   ],
   "source": [
    "s='aba'\n",
    "j=len(s)-1\n",
    "i=0\n",
    "isPalindrome=True\n",
    "while i <= j:\n",
    "    if s[i] != s[j]:\n",
    "        isPalindrome=False\n",
    "        break\n",
    "    i +=1\n",
    "    j -=1\n",
    "if isPalindrome:\n",
    "    print('Palindrome')\n",
    "else:\n",
    "    print('Not palindrome!')"
   ]
  },
  {
   "cell_type": "code",
   "execution_count": 5,
   "id": "42e4dc68",
   "metadata": {},
   "outputs": [
    {
     "name": "stdout",
     "output_type": "stream",
     "text": [
      "1\n",
      "2\n",
      "3\n",
      "4\n",
      "5\n",
      "6\n",
      "7\n",
      "8\n",
      "9\n",
      "11\n",
      "22\n",
      "33\n",
      "44\n",
      "55\n",
      "66\n",
      "77\n",
      "88\n",
      "99\n",
      "101\n",
      "111\n",
      "121\n",
      "131\n",
      "141\n",
      "151\n",
      "161\n",
      "171\n",
      "181\n",
      "191\n",
      "202\n",
      "212\n",
      "222\n",
      "232\n",
      "242\n",
      "252\n",
      "262\n",
      "272\n",
      "282\n",
      "292\n",
      "303\n",
      "313\n",
      "323\n",
      "333\n",
      "343\n",
      "353\n",
      "363\n",
      "373\n",
      "383\n",
      "393\n",
      "404\n",
      "414\n",
      "424\n",
      "434\n",
      "444\n",
      "454\n",
      "464\n",
      "474\n",
      "484\n",
      "494\n",
      "505\n",
      "515\n",
      "525\n",
      "535\n",
      "545\n",
      "555\n",
      "565\n",
      "575\n",
      "585\n",
      "595\n",
      "606\n",
      "616\n",
      "626\n",
      "636\n",
      "646\n",
      "656\n",
      "666\n",
      "676\n",
      "686\n",
      "696\n",
      "707\n",
      "717\n",
      "727\n",
      "737\n",
      "747\n",
      "757\n",
      "767\n",
      "777\n",
      "787\n",
      "797\n",
      "808\n",
      "818\n",
      "828\n",
      "838\n",
      "848\n",
      "858\n",
      "868\n",
      "878\n",
      "888\n",
      "898\n",
      "909\n",
      "919\n",
      "929\n",
      "939\n",
      "949\n",
      "959\n",
      "969\n",
      "979\n",
      "989\n",
      "999\n",
      "1001\n",
      "1111\n",
      "1221\n",
      "1331\n",
      "1441\n",
      "1551\n",
      "1661\n",
      "1771\n",
      "1881\n",
      "1991\n",
      "2002\n",
      "2112\n",
      "2222\n",
      "2332\n",
      "2442\n",
      "2552\n",
      "2662\n",
      "2772\n",
      "2882\n",
      "2992\n",
      "3003\n",
      "3113\n",
      "3223\n",
      "3333\n",
      "3443\n",
      "3553\n",
      "3663\n",
      "3773\n",
      "3883\n",
      "3993\n",
      "4004\n",
      "4114\n",
      "4224\n",
      "4334\n",
      "4444\n",
      "4554\n",
      "4664\n",
      "4774\n",
      "4884\n",
      "4994\n",
      "5005\n",
      "5115\n",
      "5225\n",
      "5335\n",
      "5445\n",
      "5555\n",
      "5665\n",
      "5775\n",
      "5885\n",
      "5995\n",
      "6006\n",
      "6116\n",
      "6226\n",
      "6336\n",
      "6446\n",
      "6556\n",
      "6666\n",
      "6776\n",
      "6886\n",
      "6996\n",
      "7007\n",
      "7117\n",
      "7227\n",
      "7337\n",
      "7447\n",
      "7557\n",
      "7667\n",
      "7777\n",
      "7887\n",
      "7997\n",
      "8008\n",
      "8118\n",
      "8228\n",
      "8338\n",
      "8448\n",
      "8558\n",
      "8668\n",
      "8778\n",
      "8888\n",
      "8998\n",
      "9009\n",
      "9119\n",
      "9229\n",
      "9339\n",
      "9449\n",
      "9559\n",
      "9669\n",
      "9779\n",
      "9889\n",
      "9999\n"
     ]
    }
   ],
   "source": [
    "# find all palindrome between 1 and 1000\n",
    "\n",
    "for i in range(1,10001):\n",
    "    s=str(i)\n",
    "    if s==s[::-1]:\n",
    "        print(i)"
   ]
  },
  {
   "cell_type": "code",
   "execution_count": 10,
   "id": "25c1c895",
   "metadata": {},
   "outputs": [
    {
     "name": "stdout",
     "output_type": "stream",
     "text": [
      "26\n"
     ]
    },
    {
     "data": {
      "text/plain": [
       "1996"
      ]
     },
     "execution_count": 10,
     "metadata": {},
     "output_type": "execute_result"
    }
   ],
   "source": [
    "# program that calculate the age of a person if birthday is known\n",
    "\n",
    "date ='June 10,1996'\n",
    "s=date[-4:]\n",
    "birthday=2022-int(s)\n",
    "print(birthday)\n",
    "s\n",
    "int(s)"
   ]
  },
  {
   "cell_type": "code",
   "execution_count": 19,
   "id": "362a9c90",
   "metadata": {},
   "outputs": [
    {
     "name": "stdout",
     "output_type": "stream",
     "text": [
      "['June', '10,', '2002']\n"
     ]
    },
    {
     "data": {
      "text/plain": [
       "20"
      ]
     },
     "execution_count": 19,
     "metadata": {},
     "output_type": "execute_result"
    }
   ],
   "source": [
    "# another method to calculate age\n",
    "date ='Dec 10, 2002'\n",
    "k=date.split()\n",
    "print(k)\n",
    "\n",
    "birthday = 2022- int(k[2])\n",
    "print(f'Lenu and Eedee dearies, your age is {}')"
   ]
  },
  {
   "cell_type": "code",
   "execution_count": 8,
   "id": "b02dd328",
   "metadata": {},
   "outputs": [
    {
     "name": "stdout",
     "output_type": "stream",
     "text": [
      "10\n"
     ]
    }
   ],
   "source": [
    "num =3456788888\n",
    "digit =str(num)\n",
    "count=0\n",
    "for i in digit:\n",
    "    count+=1\n",
    "print(count)"
   ]
  },
  {
   "cell_type": "code",
   "execution_count": 10,
   "id": "c1d6d6fe",
   "metadata": {},
   "outputs": [
    {
     "name": "stdout",
     "output_type": "stream",
     "text": [
      "whole num part is 8976 while decimal part is 0.8999999999996362\n"
     ]
    }
   ],
   "source": [
    "# Given a decimal number, find the whole number part and decimal part.\n",
    "\n",
    "num=8976.900\n",
    "\n",
    "# whole number part\n",
    "whole=int(num)\n",
    "decimal=num-whole\n",
    "print(f'whole num part is {whole} while decimal part is {decimal}')"
   ]
  },
  {
   "cell_type": "code",
   "execution_count": 29,
   "id": "77089c78",
   "metadata": {},
   "outputs": [
    {
     "name": "stdout",
     "output_type": "stream",
     "text": [
      "{:.3f} .9\n"
     ]
    }
   ],
   "source": [
    "num=8976.900\n",
    "num=str(num)\n",
    "k=num.index('.')\n",
    "print(\"{:.3f}\",num[4:])"
   ]
  },
  {
   "cell_type": "code",
   "execution_count": 37,
   "id": "96ab1777",
   "metadata": {},
   "outputs": [
    {
     "name": "stdout",
     "output_type": "stream",
     "text": [
      "bill is #6.40\n"
     ]
    }
   ],
   "source": [
    "k=25.60*0.25\n",
    "print('bill is #{:.2f}'.format(k))"
   ]
  },
  {
   "cell_type": "code",
   "execution_count": 44,
   "id": "0c9fb2ec",
   "metadata": {},
   "outputs": [
    {
     "name": "stdout",
     "output_type": "stream",
     "text": [
      "241\n"
     ]
    }
   ],
   "source": [
    "day =241\n",
    "print(\"{:3d}\".format(day))"
   ]
  },
  {
   "cell_type": "code",
   "execution_count": 45,
   "id": "22d724b9",
   "metadata": {},
   "outputs": [
    {
     "name": "stdout",
     "output_type": "stream",
     "text": [
      "range(1, 3)\n"
     ]
    }
   ],
   "source": [
    "print(range(1,3))"
   ]
  },
  {
   "cell_type": "code",
   "execution_count": null,
   "id": "4a568038",
   "metadata": {},
   "outputs": [],
   "source": []
  }
 ],
 "metadata": {
  "kernelspec": {
   "display_name": "Python 3",
   "language": "python",
   "name": "python3"
  },
  "language_info": {
   "codemirror_mode": {
    "name": "ipython",
    "version": 3
   },
   "file_extension": ".py",
   "mimetype": "text/x-python",
   "name": "python",
   "nbconvert_exporter": "python",
   "pygments_lexer": "ipython3",
   "version": "3.8.8"
  }
 },
 "nbformat": 4,
 "nbformat_minor": 5
}
